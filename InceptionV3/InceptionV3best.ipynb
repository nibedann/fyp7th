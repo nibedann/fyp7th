{
 "cells": [
  {
   "cell_type": "code",
   "execution_count": 1,
   "id": "ded2700c",
   "metadata": {},
   "outputs": [
    {
     "name": "stdout",
     "output_type": "stream",
     "text": [
      "Requirement already satisfied: spectral in c:\\users\\vaish\\anaconda3\\lib\\site-packages (0.23.1)\n",
      "Requirement already satisfied: numpy in c:\\users\\vaish\\anaconda3\\lib\\site-packages (from spectral) (1.24.3)\n",
      "Requirement already satisfied: tensorflow in c:\\users\\vaish\\anaconda3\\lib\\site-packages (2.13.0)\n",
      "Requirement already satisfied: tensorflow-intel==2.13.0 in c:\\users\\vaish\\anaconda3\\lib\\site-packages (from tensorflow) (2.13.0)\n",
      "Requirement already satisfied: absl-py>=1.0.0 in c:\\users\\vaish\\anaconda3\\lib\\site-packages (from tensorflow-intel==2.13.0->tensorflow) (1.4.0)\n",
      "Requirement already satisfied: astunparse>=1.6.0 in c:\\users\\vaish\\anaconda3\\lib\\site-packages (from tensorflow-intel==2.13.0->tensorflow) (1.6.3)\n",
      "Requirement already satisfied: flatbuffers>=23.1.21 in c:\\users\\vaish\\anaconda3\\lib\\site-packages (from tensorflow-intel==2.13.0->tensorflow) (23.5.26)\n",
      "Requirement already satisfied: gast<=0.4.0,>=0.2.1 in c:\\users\\vaish\\anaconda3\\lib\\site-packages (from tensorflow-intel==2.13.0->tensorflow) (0.4.0)\n",
      "Requirement already satisfied: google-pasta>=0.1.1 in c:\\users\\vaish\\anaconda3\\lib\\site-packages (from tensorflow-intel==2.13.0->tensorflow) (0.2.0)\n",
      "Requirement already satisfied: h5py>=2.9.0 in c:\\users\\vaish\\anaconda3\\lib\\site-packages (from tensorflow-intel==2.13.0->tensorflow) (3.7.0)\n",
      "Requirement already satisfied: libclang>=13.0.0 in c:\\users\\vaish\\anaconda3\\lib\\site-packages (from tensorflow-intel==2.13.0->tensorflow) (16.0.6)\n",
      "Requirement already satisfied: numpy<=1.24.3,>=1.22 in c:\\users\\vaish\\anaconda3\\lib\\site-packages (from tensorflow-intel==2.13.0->tensorflow) (1.24.3)\n",
      "Requirement already satisfied: opt-einsum>=2.3.2 in c:\\users\\vaish\\anaconda3\\lib\\site-packages (from tensorflow-intel==2.13.0->tensorflow) (3.3.0)\n",
      "Requirement already satisfied: packaging in c:\\users\\vaish\\anaconda3\\lib\\site-packages (from tensorflow-intel==2.13.0->tensorflow) (23.0)\n",
      "Requirement already satisfied: protobuf!=4.21.0,!=4.21.1,!=4.21.2,!=4.21.3,!=4.21.4,!=4.21.5,<5.0.0dev,>=3.20.3 in c:\\users\\vaish\\anaconda3\\lib\\site-packages (from tensorflow-intel==2.13.0->tensorflow) (4.24.3)\n",
      "Requirement already satisfied: setuptools in c:\\users\\vaish\\anaconda3\\lib\\site-packages (from tensorflow-intel==2.13.0->tensorflow) (68.0.0)\n",
      "Requirement already satisfied: six>=1.12.0 in c:\\users\\vaish\\anaconda3\\lib\\site-packages (from tensorflow-intel==2.13.0->tensorflow) (1.16.0)\n",
      "Requirement already satisfied: termcolor>=1.1.0 in c:\\users\\vaish\\anaconda3\\lib\\site-packages (from tensorflow-intel==2.13.0->tensorflow) (2.3.0)\n",
      "Requirement already satisfied: typing-extensions<4.6.0,>=3.6.6 in c:\\users\\vaish\\anaconda3\\lib\\site-packages (from tensorflow-intel==2.13.0->tensorflow) (4.5.0)\n",
      "Requirement already satisfied: wrapt>=1.11.0 in c:\\users\\vaish\\anaconda3\\lib\\site-packages (from tensorflow-intel==2.13.0->tensorflow) (1.14.1)\n",
      "Requirement already satisfied: grpcio<2.0,>=1.24.3 in c:\\users\\vaish\\anaconda3\\lib\\site-packages (from tensorflow-intel==2.13.0->tensorflow) (1.58.0)\n",
      "Requirement already satisfied: tensorboard<2.14,>=2.13 in c:\\users\\vaish\\anaconda3\\lib\\site-packages (from tensorflow-intel==2.13.0->tensorflow) (2.13.0)\n",
      "Requirement already satisfied: tensorflow-estimator<2.14,>=2.13.0 in c:\\users\\vaish\\anaconda3\\lib\\site-packages (from tensorflow-intel==2.13.0->tensorflow) (2.13.0)\n",
      "Requirement already satisfied: keras<2.14,>=2.13.1 in c:\\users\\vaish\\anaconda3\\lib\\site-packages (from tensorflow-intel==2.13.0->tensorflow) (2.13.1)\n",
      "Requirement already satisfied: tensorflow-io-gcs-filesystem>=0.23.1 in c:\\users\\vaish\\anaconda3\\lib\\site-packages (from tensorflow-intel==2.13.0->tensorflow) (0.31.0)\n",
      "Requirement already satisfied: wheel<1.0,>=0.23.0 in c:\\users\\vaish\\anaconda3\\lib\\site-packages (from astunparse>=1.6.0->tensorflow-intel==2.13.0->tensorflow) (0.38.4)\n",
      "Requirement already satisfied: google-auth<3,>=1.6.3 in c:\\users\\vaish\\anaconda3\\lib\\site-packages (from tensorboard<2.14,>=2.13->tensorflow-intel==2.13.0->tensorflow) (2.23.0)\n",
      "Requirement already satisfied: google-auth-oauthlib<1.1,>=0.5 in c:\\users\\vaish\\anaconda3\\lib\\site-packages (from tensorboard<2.14,>=2.13->tensorflow-intel==2.13.0->tensorflow) (1.0.0)\n",
      "Requirement already satisfied: markdown>=2.6.8 in c:\\users\\vaish\\anaconda3\\lib\\site-packages (from tensorboard<2.14,>=2.13->tensorflow-intel==2.13.0->tensorflow) (3.4.1)\n",
      "Requirement already satisfied: requests<3,>=2.21.0 in c:\\users\\vaish\\anaconda3\\lib\\site-packages (from tensorboard<2.14,>=2.13->tensorflow-intel==2.13.0->tensorflow) (2.31.0)\n",
      "Requirement already satisfied: tensorboard-data-server<0.8.0,>=0.7.0 in c:\\users\\vaish\\anaconda3\\lib\\site-packages (from tensorboard<2.14,>=2.13->tensorflow-intel==2.13.0->tensorflow) (0.7.1)\n",
      "Requirement already satisfied: werkzeug>=1.0.1 in c:\\users\\vaish\\anaconda3\\lib\\site-packages (from tensorboard<2.14,>=2.13->tensorflow-intel==2.13.0->tensorflow) (2.2.3)\n",
      "Requirement already satisfied: cachetools<6.0,>=2.0.0 in c:\\users\\vaish\\anaconda3\\lib\\site-packages (from google-auth<3,>=1.6.3->tensorboard<2.14,>=2.13->tensorflow-intel==2.13.0->tensorflow) (5.3.1)\n",
      "Requirement already satisfied: pyasn1-modules>=0.2.1 in c:\\users\\vaish\\anaconda3\\lib\\site-packages (from google-auth<3,>=1.6.3->tensorboard<2.14,>=2.13->tensorflow-intel==2.13.0->tensorflow) (0.2.8)\n",
      "Requirement already satisfied: rsa<5,>=3.1.4 in c:\\users\\vaish\\anaconda3\\lib\\site-packages (from google-auth<3,>=1.6.3->tensorboard<2.14,>=2.13->tensorflow-intel==2.13.0->tensorflow) (4.9)\n",
      "Requirement already satisfied: urllib3<2.0 in c:\\users\\vaish\\anaconda3\\lib\\site-packages (from google-auth<3,>=1.6.3->tensorboard<2.14,>=2.13->tensorflow-intel==2.13.0->tensorflow) (1.26.16)\n",
      "Requirement already satisfied: requests-oauthlib>=0.7.0 in c:\\users\\vaish\\anaconda3\\lib\\site-packages (from google-auth-oauthlib<1.1,>=0.5->tensorboard<2.14,>=2.13->tensorflow-intel==2.13.0->tensorflow) (1.3.1)\n",
      "Requirement already satisfied: charset-normalizer<4,>=2 in c:\\users\\vaish\\anaconda3\\lib\\site-packages (from requests<3,>=2.21.0->tensorboard<2.14,>=2.13->tensorflow-intel==2.13.0->tensorflow) (2.0.4)\n",
      "Requirement already satisfied: idna<4,>=2.5 in c:\\users\\vaish\\anaconda3\\lib\\site-packages (from requests<3,>=2.21.0->tensorboard<2.14,>=2.13->tensorflow-intel==2.13.0->tensorflow) (3.4)\n",
      "Requirement already satisfied: certifi>=2017.4.17 in c:\\users\\vaish\\anaconda3\\lib\\site-packages (from requests<3,>=2.21.0->tensorboard<2.14,>=2.13->tensorflow-intel==2.13.0->tensorflow) (2023.7.22)\n",
      "Requirement already satisfied: MarkupSafe>=2.1.1 in c:\\users\\vaish\\anaconda3\\lib\\site-packages (from werkzeug>=1.0.1->tensorboard<2.14,>=2.13->tensorflow-intel==2.13.0->tensorflow) (2.1.1)\n",
      "Requirement already satisfied: pyasn1<0.5.0,>=0.4.6 in c:\\users\\vaish\\anaconda3\\lib\\site-packages (from pyasn1-modules>=0.2.1->google-auth<3,>=1.6.3->tensorboard<2.14,>=2.13->tensorflow-intel==2.13.0->tensorflow) (0.4.8)\n",
      "Requirement already satisfied: oauthlib>=3.0.0 in c:\\users\\vaish\\anaconda3\\lib\\site-packages (from requests-oauthlib>=0.7.0->google-auth-oauthlib<1.1,>=0.5->tensorboard<2.14,>=2.13->tensorflow-intel==2.13.0->tensorflow) (3.2.2)\n"
     ]
    },
    {
     "data": {
      "text/html": [
       "        <script type=\"text/javascript\">\n",
       "        window.PlotlyConfig = {MathJaxConfig: 'local'};\n",
       "        if (window.MathJax && window.MathJax.Hub && window.MathJax.Hub.Config) {window.MathJax.Hub.Config({SVG: {font: \"STIX-Web\"}});}\n",
       "        if (typeof require !== 'undefined') {\n",
       "        require.undef(\"plotly\");\n",
       "        requirejs.config({\n",
       "            paths: {\n",
       "                'plotly': ['https://cdn.plot.ly/plotly-2.12.1.min']\n",
       "            }\n",
       "        });\n",
       "        require(['plotly'], function(Plotly) {\n",
       "            window._Plotly = Plotly;\n",
       "        });\n",
       "        }\n",
       "        </script>\n",
       "        "
      ]
     },
     "metadata": {},
     "output_type": "display_data"
    }
   ],
   "source": [
    "!pip install spectral\n",
    "!pip install tensorflow\n",
    "import os\n",
    "import sys\n",
    "import torch\n",
    "import cv2\n",
    "import numpy as np\n",
    "import pandas as pd\n",
    "import matplotlib.pyplot as plt\n",
    "from scipy import io\n",
    "from scipy.io import loadmat\n",
    "from PIL import Image\n",
    "from sklearn.model_selection import train_test_split\n",
    "from tqdm import tqdm\n",
    "import keras\n",
    "import spectral\n",
    "import tensorflow as tf\n",
    "from tensorflow.keras.layers import Input\n",
    "from tensorflow.keras.layers import Conv2D\n",
    "from tensorflow.keras.layers import MaxPooling2D\n",
    "from tensorflow.keras.layers import Dropout\n",
    "from tensorflow.keras.layers import Conv2DTranspose\n",
    "from tensorflow.keras.layers import concatenate\n",
    "from tensorflow.keras.models import Model\n",
    "from keras.layers import Conv2D, Conv3D, Flatten, Dense, Reshape, BatchNormalization, GlobalAveragePooling2D\n",
    "from keras.layers import Dropout, Input\n",
    "from keras.models import Model\n",
    "from tensorflow.keras.optimizers import Adam\n",
    "from keras.callbacks import ModelCheckpoint\n",
    "from sklearn.decomposition import PCA\n",
    "from sklearn.model_selection import train_test_split\n",
    "from sklearn.metrics import confusion_matrix, accuracy_score, classification_report, cohen_kappa_score\n",
    "from operator import truediv\n",
    "from plotly.offline import init_notebook_mode\n",
    "import spectral\n",
    "from tensorflow.keras import utils\n",
    "init_notebook_mode(connected=True)\n",
    "%matplotlib inline\n",
    "#from test_utils import summary, comparator"
   ]
  },
  {
   "cell_type": "code",
   "execution_count": 2,
   "id": "95e210b0",
   "metadata": {},
   "outputs": [
    {
     "name": "stdout",
     "output_type": "stream",
     "text": [
      "Keys in dataset_data: dict_keys(['__header__', '__version__', '__globals__', 'indian_pines_corrected'])\n",
      "Keys in ground_truth_data: dict_keys(['__header__', '__version__', '__globals__', 'indian_pines_gt'])\n",
      "Data shape: (145, 145, 200)\n",
      "Data content: [[2576 4388 4334 ... 1047 1030 1006]\n",
      " [2747 4264 4592 ... 1055 1039 1015]\n",
      " [2750 4268 4423 ... 1047 1026 1015]\n",
      " ...\n",
      " [3859 4512 4605 ... 1056 1035 1015]\n",
      " [3686 4264 4690 ... 1051 1012 1020]\n",
      " [2744 4268 4597 ... 1047 1019 1016]]\n",
      "Data shape: (145, 145)\n",
      "Data content: [[3 3 3 ... 0 0 0]\n",
      " [3 3 3 ... 0 0 0]\n",
      " [3 3 3 ... 0 0 0]\n",
      " ...\n",
      " [0 0 0 ... 0 0 0]\n",
      " [0 0 0 ... 0 0 0]\n",
      " [0 0 0 ... 0 0 0]]\n"
     ]
    }
   ],
   "source": [
    "dataset_folder = \"Indian_pines_corrected.mat\"\n",
    "ground_truth_folder = \"Indian_pines_gt.mat\"\n",
    "dataset_data = io.loadmat(dataset_folder)\n",
    "ground_truth_data = io.loadmat(ground_truth_folder)\n",
    "print(\"Keys in dataset_data:\", dataset_data.keys())\n",
    "print(\"Keys in ground_truth_data:\", ground_truth_data.keys())\n",
    "\n",
    "variable_name = 'indian_pines_corrected' \n",
    "if variable_name in dataset_data:\n",
    "    data = dataset_data[variable_name]\n",
    "    print(\"Data shape:\", data.shape)\n",
    "    print(\"Data content:\", data[1])\n",
    "else:\n",
    "    print(f\"Variable '{variable_name}' not found in the .mat file.\")\n",
    "    \n",
    "variable_name = 'indian_pines_gt' \n",
    "if variable_name in ground_truth_data:\n",
    "    data_gt = ground_truth_data[variable_name]\n",
    "    print(\"Data shape:\", data_gt.shape)\n",
    "    print(\"Data content:\", data_gt)\n",
    "else:\n",
    "    print(f\"Variable '{variable_name}' not found in the .mat file.\")"
   ]
  },
  {
   "cell_type": "code",
   "execution_count": 25,
   "id": "f1f25c94",
   "metadata": {},
   "outputs": [],
   "source": [
    "target_names = ['Alfalfa', 'Corn-notill', 'Corn-mintill', 'Corn'\n",
    "                        ,'Grass-pasture', 'Grass-trees', 'Grass-pasture-mowed', \n",
    "                        'Hay-windrowed', 'Oats', 'Soybean-notill', 'Soybean-mintill',\n",
    "                        'Soybean-clean', 'Wheat', 'Woods', 'Buildings-Grass-Trees-Drives',\n",
    "                        'Stone-Steel-Towers']"
   ]
  },
  {
   "cell_type": "markdown",
   "id": "c35c1bbd",
   "metadata": {},
   "source": [
    "# Data Processing"
   ]
  },
  {
   "cell_type": "code",
   "execution_count": 3,
   "id": "127b23bb",
   "metadata": {},
   "outputs": [],
   "source": [
    "def splitTrainTestSet(X, y, testRatio, randomState=345):\n",
    "    X_train, X_test, y_train, y_test = train_test_split(X, y, test_size=testRatio, random_state=randomState,\n",
    "                                                        stratify=y)\n",
    "    return X_train, X_test, y_train, y_test"
   ]
  },
  {
   "cell_type": "code",
   "execution_count": 4,
   "id": "f7d08051",
   "metadata": {},
   "outputs": [],
   "source": [
    "def applyPCA(X, numComponents=75):\n",
    "    newX = np.reshape(X, (-1, X.shape[2]))\n",
    "    pca = PCA(n_components=numComponents, whiten=True)\n",
    "    newX = pca.fit_transform(newX)\n",
    "    newX = np.reshape(newX, (X.shape[0],X.shape[1], numComponents))\n",
    "    return newX, pca"
   ]
  },
  {
   "cell_type": "code",
   "execution_count": 5,
   "id": "2c00288c",
   "metadata": {},
   "outputs": [],
   "source": [
    "def padWithZeros(X, margin=2):\n",
    "    newX = np.zeros((X.shape[0] + 2 * margin, X.shape[1] + 2* margin, X.shape[2]))\n",
    "    x_offset = margin\n",
    "    y_offset = margin\n",
    "    newX[x_offset:X.shape[0] + x_offset, y_offset:X.shape[1] + y_offset, :] = X\n",
    "    return newX"
   ]
  },
  {
   "cell_type": "code",
   "execution_count": 6,
   "id": "93767705",
   "metadata": {},
   "outputs": [],
   "source": [
    "def createImageCubes(X, y, windowSize=5, removeZeroLabels = True):\n",
    "    margin = int((windowSize - 1) / 2)\n",
    "    zeroPaddedX = padWithZeros(X, margin=margin)\n",
    "    # split patches\n",
    "    patchesData = np.zeros((X.shape[0] * X.shape[1], windowSize, windowSize, X.shape[2]))\n",
    "    patchesLabels = np.zeros((X.shape[0] * X.shape[1]))\n",
    "    patchIndex = 0\n",
    "    for r in range(margin, zeroPaddedX.shape[0] - margin):\n",
    "        for c in range(margin, zeroPaddedX.shape[1] - margin):\n",
    "            patch = zeroPaddedX[r - margin:r + margin + 1, c - margin:c + margin + 1]\n",
    "            patchesData[patchIndex, :, :, :] = patch\n",
    "            patchesLabels[patchIndex] = y[r-margin, c-margin]\n",
    "            patchIndex = patchIndex + 1\n",
    "    if removeZeroLabels:\n",
    "        patchesData = patchesData[patchesLabels>0,:,:,:]\n",
    "        patchesLabels = patchesLabels[patchesLabels>0]\n",
    "        patchesLabels -= 1\n",
    "    return patchesData, patchesLabels"
   ]
  },
  {
   "cell_type": "code",
   "execution_count": 7,
   "id": "ab4f2f2d",
   "metadata": {},
   "outputs": [],
   "source": [
    "def Patch(data,height_index,width_index):\n",
    "    height_slice = slice(height_index, height_index+PATCH_SIZE)\n",
    "    width_slice = slice(width_index, width_index+PATCH_SIZE)\n",
    "    patch = data[height_slice, width_slice, :]\n",
    "    return patch"
   ]
  },
  {
   "cell_type": "code",
   "execution_count": 8,
   "id": "b713efc5",
   "metadata": {},
   "outputs": [
    {
     "data": {
      "text/plain": [
       "((145, 145, 200), (145, 145))"
      ]
     },
     "execution_count": 8,
     "metadata": {},
     "output_type": "execute_result"
    }
   ],
   "source": [
    "test_ratio = 0.3\n",
    "windowSize = 25\n",
    "X, y = data, data_gt\n",
    "X.shape, y.shape"
   ]
  },
  {
   "cell_type": "code",
   "execution_count": 9,
   "id": "3420ca26",
   "metadata": {},
   "outputs": [
    {
     "data": {
      "text/plain": [
       "(145, 145, 30)"
      ]
     },
     "execution_count": 9,
     "metadata": {},
     "output_type": "execute_result"
    }
   ],
   "source": [
    "K = X.shape[2]\n",
    "K = 30\n",
    "X,pca = applyPCA(X,numComponents=K)\n",
    "X.shape"
   ]
  },
  {
   "cell_type": "code",
   "execution_count": 10,
   "id": "61c02996",
   "metadata": {},
   "outputs": [
    {
     "data": {
      "text/plain": [
       "((10249, 25, 25, 30), (10249,))"
      ]
     },
     "execution_count": 10,
     "metadata": {},
     "output_type": "execute_result"
    }
   ],
   "source": [
    "X, y = createImageCubes(X, y, windowSize=windowSize)\n",
    "X.shape, y.shape"
   ]
  },
  {
   "cell_type": "code",
   "execution_count": 11,
   "id": "c0506e46",
   "metadata": {},
   "outputs": [
    {
     "data": {
      "text/plain": [
       "((7174, 25, 25, 30), (3075, 25, 25, 30), (7174,), (3075,))"
      ]
     },
     "execution_count": 11,
     "metadata": {},
     "output_type": "execute_result"
    }
   ],
   "source": [
    "Xtrain, Xtest, ytrain, ytest = splitTrainTestSet(X, y, test_ratio)\n",
    "Xtrain.shape, Xtest.shape, ytrain.shape, ytest.shape"
   ]
  },
  {
   "cell_type": "markdown",
   "id": "51b2552b",
   "metadata": {},
   "source": [
    "# Model"
   ]
  },
  {
   "cell_type": "code",
   "execution_count": 12,
   "id": "8898b5d0",
   "metadata": {},
   "outputs": [],
   "source": [
    "from keras.layers import Input, Conv2D, BatchNormalization, Activation, MaxPooling2D, AveragePooling2D, GlobalAveragePooling2D, Concatenate, Dropout, Dense\n",
    "\n",
    "def inception_module(x, filters):\n",
    "\n",
    "    conv1x1 = Conv2D(filters[0], (1, 1), padding='same')(x)\n",
    "    conv1x1 = BatchNormalization()(conv1x1)\n",
    "    conv1x1 = Activation('relu')(conv1x1)\n",
    "\n",
    "    conv3x3 = Conv2D(filters[1], (3, 3), padding='same')(x)\n",
    "    conv3x3 = BatchNormalization()(conv3x3)\n",
    "    conv3x3 = Activation('relu')(conv3x3)\n",
    "\n",
    "    conv5x5 = Conv2D(filters[2], (5, 5), padding='same')(x)\n",
    "    conv5x5 = BatchNormalization()(conv5x5)\n",
    "    conv5x5 = Activation('relu')(conv5x5)\n",
    "\n",
    "    maxpool = MaxPooling2D((3, 3), strides=(1, 1), padding='same')(x)\n",
    "\n",
    "    inception = Concatenate(axis=-1)([conv1x1, conv3x3, conv5x5, maxpool])\n",
    "    return inception\n",
    "\n",
    "def custom_inceptionv3(input_shape=(25, 25, 30), num_classes=16):\n",
    "    input_tensor = Input(shape=input_shape)\n",
    "\n",
    "    x = Conv2D(32, (3, 3), strides=(2, 2), padding='valid')(input_tensor)\n",
    "    x = BatchNormalization()(x)\n",
    "    x = Activation('relu')(x)\n",
    "\n",
    "    x = Conv2D(32, (3, 3), padding='valid')(x)\n",
    "    x = BatchNormalization()(x)\n",
    "    x = Activation('relu')(x)\n",
    "\n",
    "    x = Conv2D(64, (3, 3), padding='same')(x)\n",
    "    x = BatchNormalization()(x)\n",
    "    x = Activation('relu')(x)\n",
    "\n",
    "    x = MaxPooling2D((3, 3), strides=(2, 2))(x)\n",
    "\n",
    "    # Inception Modules\n",
    "    x = inception_module(x, [64, 128, 32])\n",
    "    x = inception_module(x, [128, 192, 96])\n",
    "    x = MaxPooling2D((3, 3), strides=(2, 2))(x)\n",
    "\n",
    "    x = GlobalAveragePooling2D()(x)\n",
    "    x = Dense(512, activation='relu')(x)\n",
    "    x = Dropout(0.5)(x)\n",
    "    x = Dense(num_classes, activation='softmax')(x)\n",
    "\n",
    "    model = Model(inputs=input_tensor, outputs=x)\n",
    "\n",
    "    return model"
   ]
  },
  {
   "cell_type": "markdown",
   "id": "f5626013",
   "metadata": {},
   "source": [
    "# Training"
   ]
  },
  {
   "cell_type": "code",
   "execution_count": 14,
   "id": "e9c1e063",
   "metadata": {},
   "outputs": [
    {
     "name": "stdout",
     "output_type": "stream",
     "text": [
      "Model: \"model\"\n",
      "__________________________________________________________________________________________________\n",
      " Layer (type)                Output Shape                 Param #   Connected to                  \n",
      "==================================================================================================\n",
      " input_1 (InputLayer)        [(None, 25, 25, 30)]         0         []                            \n",
      "                                                                                                  \n",
      " conv2d (Conv2D)             (None, 12, 12, 32)           8672      ['input_1[0][0]']             \n",
      "                                                                                                  \n",
      " batch_normalization (Batch  (None, 12, 12, 32)           128       ['conv2d[0][0]']              \n",
      " Normalization)                                                                                   \n",
      "                                                                                                  \n",
      " activation (Activation)     (None, 12, 12, 32)           0         ['batch_normalization[0][0]'] \n",
      "                                                                                                  \n",
      " conv2d_1 (Conv2D)           (None, 10, 10, 32)           9248      ['activation[0][0]']          \n",
      "                                                                                                  \n",
      " batch_normalization_1 (Bat  (None, 10, 10, 32)           128       ['conv2d_1[0][0]']            \n",
      " chNormalization)                                                                                 \n",
      "                                                                                                  \n",
      " activation_1 (Activation)   (None, 10, 10, 32)           0         ['batch_normalization_1[0][0]'\n",
      "                                                                    ]                             \n",
      "                                                                                                  \n",
      " conv2d_2 (Conv2D)           (None, 10, 10, 64)           18496     ['activation_1[0][0]']        \n",
      "                                                                                                  \n",
      " batch_normalization_2 (Bat  (None, 10, 10, 64)           256       ['conv2d_2[0][0]']            \n",
      " chNormalization)                                                                                 \n",
      "                                                                                                  \n",
      " activation_2 (Activation)   (None, 10, 10, 64)           0         ['batch_normalization_2[0][0]'\n",
      "                                                                    ]                             \n",
      "                                                                                                  \n",
      " max_pooling2d (MaxPooling2  (None, 4, 4, 64)             0         ['activation_2[0][0]']        \n",
      " D)                                                                                               \n",
      "                                                                                                  \n",
      " conv2d_3 (Conv2D)           (None, 4, 4, 64)             4160      ['max_pooling2d[0][0]']       \n",
      "                                                                                                  \n",
      " conv2d_4 (Conv2D)           (None, 4, 4, 128)            73856     ['max_pooling2d[0][0]']       \n",
      "                                                                                                  \n",
      " conv2d_5 (Conv2D)           (None, 4, 4, 32)             51232     ['max_pooling2d[0][0]']       \n",
      "                                                                                                  \n",
      " batch_normalization_3 (Bat  (None, 4, 4, 64)             256       ['conv2d_3[0][0]']            \n",
      " chNormalization)                                                                                 \n",
      "                                                                                                  \n",
      " batch_normalization_4 (Bat  (None, 4, 4, 128)            512       ['conv2d_4[0][0]']            \n",
      " chNormalization)                                                                                 \n",
      "                                                                                                  \n",
      " batch_normalization_5 (Bat  (None, 4, 4, 32)             128       ['conv2d_5[0][0]']            \n",
      " chNormalization)                                                                                 \n",
      "                                                                                                  \n",
      " activation_3 (Activation)   (None, 4, 4, 64)             0         ['batch_normalization_3[0][0]'\n",
      "                                                                    ]                             \n",
      "                                                                                                  \n",
      " activation_4 (Activation)   (None, 4, 4, 128)            0         ['batch_normalization_4[0][0]'\n",
      "                                                                    ]                             \n",
      "                                                                                                  \n",
      " activation_5 (Activation)   (None, 4, 4, 32)             0         ['batch_normalization_5[0][0]'\n",
      "                                                                    ]                             \n",
      "                                                                                                  \n",
      " max_pooling2d_1 (MaxPoolin  (None, 4, 4, 64)             0         ['max_pooling2d[0][0]']       \n",
      " g2D)                                                                                             \n",
      "                                                                                                  \n",
      " concatenate (Concatenate)   (None, 4, 4, 288)            0         ['activation_3[0][0]',        \n",
      "                                                                     'activation_4[0][0]',        \n",
      "                                                                     'activation_5[0][0]',        \n",
      "                                                                     'max_pooling2d_1[0][0]']     \n",
      "                                                                                                  \n",
      " conv2d_6 (Conv2D)           (None, 4, 4, 128)            36992     ['concatenate[0][0]']         \n",
      "                                                                                                  \n",
      " conv2d_7 (Conv2D)           (None, 4, 4, 192)            497856    ['concatenate[0][0]']         \n",
      "                                                                                                  \n",
      " conv2d_8 (Conv2D)           (None, 4, 4, 96)             691296    ['concatenate[0][0]']         \n",
      "                                                                                                  \n",
      " batch_normalization_6 (Bat  (None, 4, 4, 128)            512       ['conv2d_6[0][0]']            \n",
      " chNormalization)                                                                                 \n",
      "                                                                                                  \n",
      " batch_normalization_7 (Bat  (None, 4, 4, 192)            768       ['conv2d_7[0][0]']            \n",
      " chNormalization)                                                                                 \n",
      "                                                                                                  \n",
      " batch_normalization_8 (Bat  (None, 4, 4, 96)             384       ['conv2d_8[0][0]']            \n",
      " chNormalization)                                                                                 \n",
      "                                                                                                  \n",
      " activation_6 (Activation)   (None, 4, 4, 128)            0         ['batch_normalization_6[0][0]'\n",
      "                                                                    ]                             \n",
      "                                                                                                  \n",
      " activation_7 (Activation)   (None, 4, 4, 192)            0         ['batch_normalization_7[0][0]'\n",
      "                                                                    ]                             \n"
     ]
    },
    {
     "name": "stdout",
     "output_type": "stream",
     "text": [
      "                                                                                                  \n",
      " activation_8 (Activation)   (None, 4, 4, 96)             0         ['batch_normalization_8[0][0]'\n",
      "                                                                    ]                             \n",
      "                                                                                                  \n",
      " max_pooling2d_2 (MaxPoolin  (None, 4, 4, 288)            0         ['concatenate[0][0]']         \n",
      " g2D)                                                                                             \n",
      "                                                                                                  \n",
      " concatenate_1 (Concatenate  (None, 4, 4, 704)            0         ['activation_6[0][0]',        \n",
      " )                                                                   'activation_7[0][0]',        \n",
      "                                                                     'activation_8[0][0]',        \n",
      "                                                                     'max_pooling2d_2[0][0]']     \n",
      "                                                                                                  \n",
      " max_pooling2d_3 (MaxPoolin  (None, 1, 1, 704)            0         ['concatenate_1[0][0]']       \n",
      " g2D)                                                                                             \n",
      "                                                                                                  \n",
      " global_average_pooling2d (  (None, 704)                  0         ['max_pooling2d_3[0][0]']     \n",
      " GlobalAveragePooling2D)                                                                          \n",
      "                                                                                                  \n",
      " dense (Dense)               (None, 512)                  360960    ['global_average_pooling2d[0][\n",
      "                                                                    0]']                          \n",
      "                                                                                                  \n",
      " dropout (Dropout)           (None, 512)                  0         ['dense[0][0]']               \n",
      "                                                                                                  \n",
      " dense_1 (Dense)             (None, 16)                   8208      ['dropout[0][0]']             \n",
      "                                                                                                  \n",
      "==================================================================================================\n",
      "Total params: 1764048 (6.73 MB)\n",
      "Trainable params: 1762512 (6.72 MB)\n",
      "Non-trainable params: 1536 (6.00 KB)\n",
      "__________________________________________________________________________________________________\n"
     ]
    }
   ],
   "source": [
    "model = custom_inceptionv3(input_shape=(25,25,30), num_classes=16)\n",
    "model.compile(optimizer='adam', loss='categorical_crossentropy', metrics=['accuracy'])\n",
    "model.summary()"
   ]
  },
  {
   "cell_type": "code",
   "execution_count": 15,
   "id": "8421a938",
   "metadata": {},
   "outputs": [
    {
     "name": "stdout",
     "output_type": "stream",
     "text": [
      "number of training examples = 7174\n",
      "number of test examples = 3075\n",
      "X_train shape: (7174, 25, 25, 30)\n",
      "Y_train shape: (7174,)\n",
      "X_test shape: (3075, 25, 25, 30)\n",
      "Y_test shape: (3075,)\n"
     ]
    }
   ],
   "source": [
    "print (\"number of training examples = \" + str(Xtrain.shape[0]))\n",
    "print (\"number of test examples = \" + str(Xtest.shape[0]))\n",
    "print (\"X_train shape: \" + str(Xtrain.shape))\n",
    "print (\"Y_train shape: \" + str(ytrain.shape))\n",
    "print (\"X_test shape: \" + str(Xtest.shape))\n",
    "print (\"Y_test shape: \" + str(ytest.shape))"
   ]
  },
  {
   "cell_type": "code",
   "execution_count": 16,
   "id": "441aadcf",
   "metadata": {},
   "outputs": [
    {
     "name": "stdout",
     "output_type": "stream",
     "text": [
      "Epoch 1/100\n",
      "225/225 [==============================] - 18s 55ms/step - loss: 0.7929 - accuracy: 0.7706\n",
      "Epoch 2/100\n",
      "225/225 [==============================] - 12s 55ms/step - loss: 0.1703 - accuracy: 0.9474\n",
      "Epoch 3/100\n",
      "225/225 [==============================] - 12s 55ms/step - loss: 0.1104 - accuracy: 0.9656\n",
      "Epoch 4/100\n",
      "225/225 [==============================] - 13s 56ms/step - loss: 0.0657 - accuracy: 0.9813\n",
      "Epoch 5/100\n",
      "225/225 [==============================] - 12s 55ms/step - loss: 0.0432 - accuracy: 0.9868\n",
      "Epoch 6/100\n",
      "225/225 [==============================] - 12s 55ms/step - loss: 0.0646 - accuracy: 0.9826\n",
      "Epoch 7/100\n",
      "225/225 [==============================] - 12s 55ms/step - loss: 0.0330 - accuracy: 0.9919\n",
      "Epoch 8/100\n",
      "225/225 [==============================] - 13s 56ms/step - loss: 0.0363 - accuracy: 0.9902\n",
      "Epoch 9/100\n",
      "225/225 [==============================] - 13s 57ms/step - loss: 0.0433 - accuracy: 0.9866\n",
      "Epoch 10/100\n",
      "225/225 [==============================] - 13s 56ms/step - loss: 0.0612 - accuracy: 0.9848\n",
      "Epoch 11/100\n",
      "225/225 [==============================] - 13s 57ms/step - loss: 0.0222 - accuracy: 0.9926\n",
      "Epoch 12/100\n",
      "225/225 [==============================] - 13s 57ms/step - loss: 0.0247 - accuracy: 0.9934\n",
      "Epoch 13/100\n",
      "225/225 [==============================] - 13s 57ms/step - loss: 0.0141 - accuracy: 0.9954\n",
      "Epoch 14/100\n",
      "225/225 [==============================] - 13s 57ms/step - loss: 0.0227 - accuracy: 0.9941\n",
      "Epoch 15/100\n",
      "225/225 [==============================] - 13s 57ms/step - loss: 0.0288 - accuracy: 0.9929\n",
      "Epoch 16/100\n",
      "225/225 [==============================] - 13s 57ms/step - loss: 0.0130 - accuracy: 0.9951\n",
      "Epoch 17/100\n",
      "225/225 [==============================] - 13s 57ms/step - loss: 0.0300 - accuracy: 0.9922\n",
      "Epoch 18/100\n",
      "225/225 [==============================] - 14s 60ms/step - loss: 0.0275 - accuracy: 0.9937\n",
      "Epoch 19/100\n",
      "225/225 [==============================] - 13s 57ms/step - loss: 0.0352 - accuracy: 0.9912\n",
      "Epoch 20/100\n",
      "225/225 [==============================] - 13s 57ms/step - loss: 0.0128 - accuracy: 0.9969\n",
      "Epoch 21/100\n",
      "225/225 [==============================] - 13s 57ms/step - loss: 0.0151 - accuracy: 0.9967\n",
      "Epoch 22/100\n",
      "225/225 [==============================] - 13s 57ms/step - loss: 0.0031 - accuracy: 0.9989\n",
      "Epoch 23/100\n",
      "225/225 [==============================] - 13s 57ms/step - loss: 0.0016 - accuracy: 0.9994\n",
      "Epoch 24/100\n",
      "225/225 [==============================] - 13s 57ms/step - loss: 5.9484e-04 - accuracy: 0.9999\n",
      "Epoch 25/100\n",
      "225/225 [==============================] - 13s 57ms/step - loss: 6.6810e-04 - accuracy: 0.9996\n",
      "Epoch 26/100\n",
      "225/225 [==============================] - 13s 57ms/step - loss: 0.0390 - accuracy: 0.9909\n",
      "Epoch 27/100\n",
      "225/225 [==============================] - 13s 57ms/step - loss: 0.0584 - accuracy: 0.9856\n",
      "Epoch 28/100\n",
      "225/225 [==============================] - 13s 57ms/step - loss: 0.0174 - accuracy: 0.9962\n",
      "Epoch 29/100\n",
      "225/225 [==============================] - 13s 58ms/step - loss: 0.0461 - accuracy: 0.9907\n",
      "Epoch 30/100\n",
      "225/225 [==============================] - 13s 58ms/step - loss: 0.0104 - accuracy: 0.9967\n",
      "Epoch 31/100\n",
      "225/225 [==============================] - 13s 58ms/step - loss: 0.0181 - accuracy: 0.9965\n",
      "Epoch 32/100\n",
      "225/225 [==============================] - 13s 58ms/step - loss: 0.0070 - accuracy: 0.9976\n",
      "Epoch 33/100\n",
      "225/225 [==============================] - 13s 57ms/step - loss: 0.0129 - accuracy: 0.9971\n",
      "Epoch 34/100\n",
      "225/225 [==============================] - 13s 57ms/step - loss: 0.0105 - accuracy: 0.9965\n",
      "Epoch 35/100\n",
      "225/225 [==============================] - 13s 57ms/step - loss: 0.0034 - accuracy: 0.9986\n",
      "Epoch 36/100\n",
      "225/225 [==============================] - 13s 57ms/step - loss: 0.0180 - accuracy: 0.9972\n",
      "Epoch 37/100\n",
      "225/225 [==============================] - 13s 57ms/step - loss: 0.0372 - accuracy: 0.9916\n",
      "Epoch 38/100\n",
      "225/225 [==============================] - 13s 57ms/step - loss: 0.0145 - accuracy: 0.9975\n",
      "Epoch 39/100\n",
      "225/225 [==============================] - 13s 57ms/step - loss: 0.0086 - accuracy: 0.9986\n",
      "Epoch 40/100\n",
      "225/225 [==============================] - 13s 57ms/step - loss: 0.0081 - accuracy: 0.9978\n",
      "Epoch 41/100\n",
      "225/225 [==============================] - 13s 57ms/step - loss: 0.0071 - accuracy: 0.9980\n",
      "Epoch 42/100\n",
      "225/225 [==============================] - 13s 57ms/step - loss: 0.0102 - accuracy: 0.9979\n",
      "Epoch 43/100\n",
      "225/225 [==============================] - 13s 57ms/step - loss: 0.0283 - accuracy: 0.9941\n",
      "Epoch 44/100\n",
      "225/225 [==============================] - 13s 57ms/step - loss: 0.0085 - accuracy: 0.9982\n",
      "Epoch 45/100\n",
      "225/225 [==============================] - 13s 57ms/step - loss: 0.0124 - accuracy: 0.9980\n",
      "Epoch 46/100\n",
      "225/225 [==============================] - 13s 57ms/step - loss: 0.0162 - accuracy: 0.9961\n",
      "Epoch 47/100\n",
      "225/225 [==============================] - 13s 57ms/step - loss: 0.0232 - accuracy: 0.9964\n",
      "Epoch 48/100\n",
      "225/225 [==============================] - 13s 57ms/step - loss: 0.0058 - accuracy: 0.9989\n",
      "Epoch 49/100\n",
      "225/225 [==============================] - 13s 57ms/step - loss: 0.0144 - accuracy: 0.9969\n",
      "Epoch 50/100\n",
      "225/225 [==============================] - 13s 58ms/step - loss: 0.0083 - accuracy: 0.9976\n",
      "Epoch 51/100\n",
      "225/225 [==============================] - 13s 58ms/step - loss: 0.0043 - accuracy: 0.9989\n",
      "Epoch 52/100\n",
      "225/225 [==============================] - 13s 57ms/step - loss: 0.0023 - accuracy: 0.9996\n",
      "Epoch 53/100\n",
      "225/225 [==============================] - 13s 56ms/step - loss: 0.0026 - accuracy: 0.9997\n",
      "Epoch 54/100\n",
      "225/225 [==============================] - 13s 56ms/step - loss: 0.0102 - accuracy: 0.9979\n",
      "Epoch 55/100\n",
      "225/225 [==============================] - 13s 56ms/step - loss: 0.0497 - accuracy: 0.9901\n",
      "Epoch 56/100\n",
      "225/225 [==============================] - 13s 56ms/step - loss: 0.0075 - accuracy: 0.9980\n",
      "Epoch 57/100\n",
      "225/225 [==============================] - 13s 56ms/step - loss: 0.0051 - accuracy: 0.9986\n",
      "Epoch 58/100\n",
      "225/225 [==============================] - 13s 56ms/step - loss: 8.0351e-04 - accuracy: 0.9997\n",
      "Epoch 59/100\n",
      "225/225 [==============================] - 13s 56ms/step - loss: 0.0104 - accuracy: 0.9990\n",
      "Epoch 60/100\n",
      "225/225 [==============================] - 13s 56ms/step - loss: 0.0018 - accuracy: 0.9993\n",
      "Epoch 61/100\n",
      "225/225 [==============================] - 13s 56ms/step - loss: 0.0197 - accuracy: 0.9978\n",
      "Epoch 62/100\n",
      "225/225 [==============================] - 13s 57ms/step - loss: 0.0279 - accuracy: 0.9971\n",
      "Epoch 63/100\n",
      "225/225 [==============================] - 13s 57ms/step - loss: 0.0121 - accuracy: 0.9983\n",
      "Epoch 64/100\n",
      "225/225 [==============================] - 13s 57ms/step - loss: 0.0241 - accuracy: 0.9941\n",
      "Epoch 65/100\n",
      "225/225 [==============================] - 13s 57ms/step - loss: 0.0074 - accuracy: 0.9979\n",
      "Epoch 66/100\n",
      "225/225 [==============================] - 13s 57ms/step - loss: 0.0052 - accuracy: 0.9990\n",
      "Epoch 67/100\n",
      "225/225 [==============================] - 13s 57ms/step - loss: 0.0020 - accuracy: 0.9990\n",
      "Epoch 68/100\n",
      "225/225 [==============================] - 13s 57ms/step - loss: 0.0015 - accuracy: 0.9997\n",
      "Epoch 69/100\n",
      "225/225 [==============================] - 13s 56ms/step - loss: 0.0166 - accuracy: 0.9974\n",
      "Epoch 70/100\n",
      "225/225 [==============================] - 13s 56ms/step - loss: 0.0246 - accuracy: 0.9965\n",
      "Epoch 71/100\n",
      "225/225 [==============================] - 13s 56ms/step - loss: 0.0125 - accuracy: 0.9971\n",
      "Epoch 72/100\n",
      "225/225 [==============================] - 13s 56ms/step - loss: 0.0437 - accuracy: 0.9958\n",
      "Epoch 73/100\n",
      "225/225 [==============================] - 13s 56ms/step - loss: 0.0099 - accuracy: 0.9975\n",
      "Epoch 74/100\n",
      "225/225 [==============================] - 13s 57ms/step - loss: 0.0026 - accuracy: 0.9990\n",
      "Epoch 75/100\n",
      "225/225 [==============================] - 13s 56ms/step - loss: 9.5762e-04 - accuracy: 0.9996\n",
      "Epoch 76/100\n",
      "225/225 [==============================] - 13s 56ms/step - loss: 0.0012 - accuracy: 0.9996\n",
      "Epoch 77/100\n",
      "225/225 [==============================] - 13s 56ms/step - loss: 0.0528 - accuracy: 0.9934\n",
      "Epoch 78/100\n",
      "225/225 [==============================] - 13s 56ms/step - loss: 0.0094 - accuracy: 0.9986\n",
      "Epoch 79/100\n"
     ]
    },
    {
     "name": "stdout",
     "output_type": "stream",
     "text": [
      "225/225 [==============================] - 13s 56ms/step - loss: 0.0040 - accuracy: 0.9994\n",
      "Epoch 80/100\n",
      "225/225 [==============================] - 13s 56ms/step - loss: 0.0011 - accuracy: 0.9996\n",
      "Epoch 81/100\n",
      "225/225 [==============================] - 13s 56ms/step - loss: 9.1861e-04 - accuracy: 0.9996\n",
      "Epoch 82/100\n",
      "225/225 [==============================] - 13s 56ms/step - loss: 0.0063 - accuracy: 0.9990\n",
      "Epoch 83/100\n",
      "225/225 [==============================] - 13s 56ms/step - loss: 0.0109 - accuracy: 0.9987\n",
      "Epoch 84/100\n",
      "225/225 [==============================] - 13s 56ms/step - loss: 0.0164 - accuracy: 0.9969\n",
      "Epoch 85/100\n",
      "225/225 [==============================] - 13s 56ms/step - loss: 0.0290 - accuracy: 0.9962\n",
      "Epoch 86/100\n",
      "225/225 [==============================] - 13s 56ms/step - loss: 0.0085 - accuracy: 0.9993\n",
      "Epoch 87/100\n",
      "225/225 [==============================] - 13s 56ms/step - loss: 0.0045 - accuracy: 0.9989\n",
      "Epoch 88/100\n",
      "225/225 [==============================] - 13s 57ms/step - loss: 0.0017 - accuracy: 0.9993\n",
      "Epoch 89/100\n",
      "225/225 [==============================] - 13s 57ms/step - loss: 0.0025 - accuracy: 0.9992\n",
      "Epoch 90/100\n",
      "225/225 [==============================] - 13s 57ms/step - loss: 0.0026 - accuracy: 0.9993\n",
      "Epoch 91/100\n",
      "225/225 [==============================] - 13s 57ms/step - loss: 0.0018 - accuracy: 0.9994\n",
      "Epoch 92/100\n",
      "225/225 [==============================] - 13s 56ms/step - loss: 0.0014 - accuracy: 0.9996\n",
      "Epoch 93/100\n",
      "225/225 [==============================] - 13s 56ms/step - loss: 0.0066 - accuracy: 0.9996\n",
      "Epoch 94/100\n",
      "225/225 [==============================] - 13s 56ms/step - loss: 0.0148 - accuracy: 0.9985\n",
      "Epoch 95/100\n",
      "225/225 [==============================] - 13s 56ms/step - loss: 0.0229 - accuracy: 0.9972\n",
      "Epoch 96/100\n",
      "225/225 [==============================] - 13s 57ms/step - loss: 0.0064 - accuracy: 0.9986\n",
      "Epoch 97/100\n",
      "225/225 [==============================] - 13s 57ms/step - loss: 0.0026 - accuracy: 0.9994\n",
      "Epoch 98/100\n",
      "225/225 [==============================] - 13s 56ms/step - loss: 0.0048 - accuracy: 0.9993\n",
      "Epoch 99/100\n",
      "225/225 [==============================] - 13s 57ms/step - loss: 0.0318 - accuracy: 0.9957\n",
      "Epoch 100/100\n",
      "225/225 [==============================] - 13s 56ms/step - loss: 0.0027 - accuracy: 0.9989\n"
     ]
    },
    {
     "data": {
      "text/plain": [
       "<keras.src.callbacks.History at 0x2cd1df30050>"
      ]
     },
     "execution_count": 16,
     "metadata": {},
     "output_type": "execute_result"
    }
   ],
   "source": [
    "from tensorflow.keras.utils import to_categorical\n",
    "lr_schedule = tf.keras.optimizers.schedules.ExponentialDecay(\n",
    "    initial_learning_rate=0.001,\n",
    "    decay_steps=10000,\n",
    "    decay_rate=0.9)\n",
    "adam = tf.keras.optimizers.Adam(learning_rate=lr_schedule)\n",
    "\n",
    "model.compile(optimizer='adam', loss='categorical_crossentropy', metrics=['accuracy'])\n",
    "\n",
    "filepath = \"best-model.hdf5\"\n",
    "checkpoint = ModelCheckpoint(filepath, monitor='acc', verbose=1, save_best_only=True, mode='max')\n",
    "callbacks_list = [checkpoint]\n",
    "\n",
    "Y_train_encoded = to_categorical(ytrain, num_classes=16)\n",
    "Y_test_encoded = to_categorical(ytest, num_classes=16)\n",
    "\n",
    "model.fit(Xtrain, Y_train_encoded, epochs = 100, batch_size = 32)"
   ]
  },
  {
   "cell_type": "code",
   "execution_count": 17,
   "id": "74e5f3b4",
   "metadata": {},
   "outputs": [
    {
     "name": "stderr",
     "output_type": "stream",
     "text": [
      "C:\\Users\\vaish\\anaconda3\\Lib\\site-packages\\keras\\src\\engine\\training.py:3000: UserWarning:\n",
      "\n",
      "You are saving your model as an HDF5 file via `model.save()`. This file format is considered legacy. We recommend using instead the native Keras format, e.g. `model.save('my_model.keras')`.\n",
      "\n"
     ]
    }
   ],
   "source": [
    "model.save(\"best-model.hdf5\")"
   ]
  },
  {
   "cell_type": "markdown",
   "id": "815280bf",
   "metadata": {},
   "source": [
    "# Validation"
   ]
  },
  {
   "cell_type": "code",
   "execution_count": 18,
   "id": "0411878d",
   "metadata": {},
   "outputs": [
    {
     "name": "stdout",
     "output_type": "stream",
     "text": [
      "97/97 [==============================] - 2s 11ms/step - loss: 0.0646 - accuracy: 0.9954\n",
      "Test loss: 0.0645783394575119\n",
      "Test accuracy: 0.9954471588134766\n"
     ]
    }
   ],
   "source": [
    "results = model.evaluate(Xtest, Y_test_encoded, batch_size=32)\n",
    "print(\"Test loss:\", results[0])\n",
    "print(\"Test accuracy:\", results[1])"
   ]
  },
  {
   "cell_type": "code",
   "execution_count": 19,
   "id": "b4510d47",
   "metadata": {},
   "outputs": [
    {
     "name": "stdout",
     "output_type": "stream",
     "text": [
      "(3075, 25, 25, 30)\n",
      "(3075, 16)\n"
     ]
    }
   ],
   "source": [
    "Xtest = Xtest.reshape(-1, windowSize, windowSize, K)\n",
    "print(Xtest.shape)\n",
    "ytest = utils.to_categorical(ytest)\n",
    "print(ytest.shape)"
   ]
  },
  {
   "cell_type": "code",
   "execution_count": 20,
   "id": "9d7529ee",
   "metadata": {},
   "outputs": [
    {
     "name": "stdout",
     "output_type": "stream",
     "text": [
      "97/97 [==============================] - 1s 11ms/step\n",
      "              precision    recall  f1-score   support\n",
      "\n",
      "           0       1.00      1.00      1.00        14\n",
      "           1       0.98      1.00      0.99       428\n",
      "           2       1.00      1.00      1.00       249\n",
      "           3       1.00      0.99      0.99        71\n",
      "           4       1.00      1.00      1.00       145\n",
      "           5       1.00      1.00      1.00       219\n",
      "           6       1.00      1.00      1.00         8\n",
      "           7       1.00      1.00      1.00       143\n",
      "           8       1.00      1.00      1.00         6\n",
      "           9       1.00      0.98      0.99       292\n",
      "          10       1.00      1.00      1.00       737\n",
      "          11       1.00      0.97      0.98       178\n",
      "          12       1.00      1.00      1.00        61\n",
      "          13       1.00      1.00      1.00       380\n",
      "          14       1.00      1.00      1.00       116\n",
      "          15       0.82      1.00      0.90        28\n",
      "\n",
      "    accuracy                           1.00      3075\n",
      "   macro avg       0.99      1.00      0.99      3075\n",
      "weighted avg       1.00      1.00      1.00      3075\n",
      "\n"
     ]
    }
   ],
   "source": [
    "Y_pred_test = model.predict(Xtest)\n",
    "y_pred_test = np.argmax(Y_pred_test, axis=1)\n",
    "\n",
    "classification = classification_report(np.argmax(ytest, axis=1), y_pred_test)\n",
    "print(classification)"
   ]
  },
  {
   "cell_type": "code",
   "execution_count": 21,
   "id": "9db51245",
   "metadata": {},
   "outputs": [],
   "source": [
    "def AA_andEachClassAccuracy(confusion_matrix):\n",
    "    counter = confusion_matrix.shape[0]\n",
    "    list_diag = np.diag(confusion_matrix)\n",
    "    list_raw_sum = np.sum(confusion_matrix, axis=1)\n",
    "    each_acc = np.nan_to_num(truediv(list_diag, list_raw_sum))\n",
    "    average_acc = np.mean(each_acc)\n",
    "    return each_acc, average_acc"
   ]
  },
  {
   "cell_type": "code",
   "execution_count": 22,
   "id": "13213c34",
   "metadata": {},
   "outputs": [],
   "source": [
    "def reports (Xtest,ytest):\n",
    "    classification = classification_report(np.argmax(ytest, axis=1), y_pred_test, target_names=target_names)\n",
    "    oa = accuracy_score(np.argmax(ytest, axis=1), y_pred_test)\n",
    "    confusion = confusion_matrix(np.argmax(ytest, axis=1), y_pred_test)\n",
    "    each_acc, aa = AA_andEachClassAccuracy(confusion)\n",
    "    kappa = cohen_kappa_score(np.argmax(ytest, axis=1), y_pred_test)\n",
    "    score = model.evaluate(Xtest, ytest, batch_size=32)\n",
    "    Test_Loss =  score[0]*100\n",
    "    Test_accuracy = score[1]*100\n",
    "    return classification, confusion, Test_Loss, Test_accuracy, oa*100, each_acc*100, aa*100, kappa*100"
   ]
  },
  {
   "cell_type": "code",
   "execution_count": 23,
   "id": "54df949a",
   "metadata": {},
   "outputs": [
    {
     "name": "stdout",
     "output_type": "stream",
     "text": [
      "97/97 [==============================] - 1s 11ms/step - loss: 0.0646 - accuracy: 0.9954\n",
      "6.45783394575119 99.54471588134766 99.54471544715447 [100.         100.         100.          98.5915493  100.\n",
      " 100.         100.         100.         100.          97.60273973\n",
      " 100.          96.62921348 100.         100.         100.\n",
      " 100.        ] 99.55146890655926 99.48088499160734\n"
     ]
    }
   ],
   "source": [
    "classification, confusion, Test_loss, Test_accuracy, oa, each_acc, aa, kappa = reports(Xtest,ytest)\n",
    "classification = str(classification)\n",
    "confusion = str(confusion)\n",
    "file_name = \"classification_report.txt\"\n",
    "\n",
    "print(Test_loss, Test_accuracy, oa, each_acc, aa, kappa)\n",
    "with open(file_name, 'w') as x_file:\n",
    "    x_file.write('{} Test loss (%)'.format(Test_loss))\n",
    "    x_file.write('\\n')\n",
    "    x_file.write('{} Test accuracy (%)'.format(Test_accuracy))\n",
    "    x_file.write('\\n')\n",
    "    x_file.write('\\n')\n",
    "    x_file.write('{} Kappa accuracy (%)'.format(kappa))\n",
    "    x_file.write('\\n')\n",
    "    x_file.write('{} Overall accuracy (%)'.format(oa))\n",
    "    x_file.write('\\n')\n",
    "    x_file.write('{} Average accuracy (%)'.format(aa))\n",
    "    x_file.write('\\n')\n",
    "    x_file.write('\\n')\n",
    "    x_file.write('{}'.format(classification))\n",
    "    x_file.write('\\n')\n",
    "    x_file.write('{}'.format(confusion))"
   ]
  },
  {
   "cell_type": "code",
   "execution_count": 26,
   "id": "9b94da02",
   "metadata": {},
   "outputs": [
    {
     "name": "stdout",
     "output_type": "stream",
     "text": [
      "97/97 [==============================] - 1s 14ms/step\n"
     ]
    },
    {
     "data": {
      "image/png": "[encoded data removed]",
      "text/plain": [
       "<Figure size 1000x700 with 2 Axes>"
      ]
     },
     "metadata": {},
     "output_type": "display_data"
    }
   ],
   "source": [
    "import seaborn as sns\n",
    "plt.figure(figsize = (10,7))\n",
    "pred = np.argmax(model.predict(Xtest), axis=1)\n",
    "classes = target_names\n",
    "mat = confusion_matrix(np.add(pred, 1), np.add(np.argmax(ytest, 1), 1))\n",
    "df_cm = pd.DataFrame(mat, index = classes, columns = classes)\n",
    "sns.heatmap(df_cm, annot=True, fmt='d')\n",
    "plt.show()"
   ]
  }
 ],
 "metadata": {
  "kernelspec": {
   "display_name": "Python 3 (ipykernel)",
   "language": "python",
   "name": "python3"
  },
  "language_info": {
   "codemirror_mode": {
    "name": "ipython",
    "version": 3
   },
   "file_extension": ".py",
   "mimetype": "text/x-python",
   "name": "python",
   "nbconvert_exporter": "python",
   "pygments_lexer": "ipython3",
   "version": "3.11.4"
  }
 },
 "nbformat": 4,
 "nbformat_minor": 5
}
