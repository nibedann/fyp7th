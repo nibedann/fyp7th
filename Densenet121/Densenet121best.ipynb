{
 "cells": [
  {
   "cell_type": "code",
   "execution_count": 1,
   "id": "b8603deb",
   "metadata": {},
   "outputs": [
    {
     "name": "stdout",
     "output_type": "stream",
     "text": [
      "Requirement already satisfied: spectral in c:\\users\\vaish\\anaconda3\\lib\\site-packages (0.23.1)\n",
      "Requirement already satisfied: numpy in c:\\users\\vaish\\anaconda3\\lib\\site-packages (from spectral) (1.24.3)\n",
      "Requirement already satisfied: tensorflow in c:\\users\\vaish\\anaconda3\\lib\\site-packages (2.13.0)\n",
      "Requirement already satisfied: tensorflow-intel==2.13.0 in c:\\users\\vaish\\anaconda3\\lib\\site-packages (from tensorflow) (2.13.0)\n",
      "Requirement already satisfied: absl-py>=1.0.0 in c:\\users\\vaish\\anaconda3\\lib\\site-packages (from tensorflow-intel==2.13.0->tensorflow) (1.4.0)\n",
      "Requirement already satisfied: astunparse>=1.6.0 in c:\\users\\vaish\\anaconda3\\lib\\site-packages (from tensorflow-intel==2.13.0->tensorflow) (1.6.3)\n",
      "Requirement already satisfied: flatbuffers>=23.1.21 in c:\\users\\vaish\\anaconda3\\lib\\site-packages (from tensorflow-intel==2.13.0->tensorflow) (23.5.26)\n",
      "Requirement already satisfied: gast<=0.4.0,>=0.2.1 in c:\\users\\vaish\\anaconda3\\lib\\site-packages (from tensorflow-intel==2.13.0->tensorflow) (0.4.0)\n",
      "Requirement already satisfied: google-pasta>=0.1.1 in c:\\users\\vaish\\anaconda3\\lib\\site-packages (from tensorflow-intel==2.13.0->tensorflow) (0.2.0)\n",
      "Requirement already satisfied: h5py>=2.9.0 in c:\\users\\vaish\\anaconda3\\lib\\site-packages (from tensorflow-intel==2.13.0->tensorflow) (3.7.0)\n",
      "Requirement already satisfied: libclang>=13.0.0 in c:\\users\\vaish\\anaconda3\\lib\\site-packages (from tensorflow-intel==2.13.0->tensorflow) (16.0.6)\n",
      "Requirement already satisfied: numpy<=1.24.3,>=1.22 in c:\\users\\vaish\\anaconda3\\lib\\site-packages (from tensorflow-intel==2.13.0->tensorflow) (1.24.3)\n",
      "Requirement already satisfied: opt-einsum>=2.3.2 in c:\\users\\vaish\\anaconda3\\lib\\site-packages (from tensorflow-intel==2.13.0->tensorflow) (3.3.0)\n",
      "Requirement already satisfied: packaging in c:\\users\\vaish\\anaconda3\\lib\\site-packages (from tensorflow-intel==2.13.0->tensorflow) (23.0)\n",
      "Requirement already satisfied: protobuf!=4.21.0,!=4.21.1,!=4.21.2,!=4.21.3,!=4.21.4,!=4.21.5,<5.0.0dev,>=3.20.3 in c:\\users\\vaish\\anaconda3\\lib\\site-packages (from tensorflow-intel==2.13.0->tensorflow) (4.24.3)\n",
      "Requirement already satisfied: setuptools in c:\\users\\vaish\\anaconda3\\lib\\site-packages (from tensorflow-intel==2.13.0->tensorflow) (68.0.0)\n",
      "Requirement already satisfied: six>=1.12.0 in c:\\users\\vaish\\anaconda3\\lib\\site-packages (from tensorflow-intel==2.13.0->tensorflow) (1.16.0)\n",
      "Requirement already satisfied: termcolor>=1.1.0 in c:\\users\\vaish\\anaconda3\\lib\\site-packages (from tensorflow-intel==2.13.0->tensorflow) (2.3.0)\n",
      "Requirement already satisfied: typing-extensions<4.6.0,>=3.6.6 in c:\\users\\vaish\\anaconda3\\lib\\site-packages (from tensorflow-intel==2.13.0->tensorflow) (4.5.0)\n",
      "Requirement already satisfied: wrapt>=1.11.0 in c:\\users\\vaish\\anaconda3\\lib\\site-packages (from tensorflow-intel==2.13.0->tensorflow) (1.14.1)\n",
      "Requirement already satisfied: grpcio<2.0,>=1.24.3 in c:\\users\\vaish\\anaconda3\\lib\\site-packages (from tensorflow-intel==2.13.0->tensorflow) (1.58.0)\n",
      "Requirement already satisfied: tensorboard<2.14,>=2.13 in c:\\users\\vaish\\anaconda3\\lib\\site-packages (from tensorflow-intel==2.13.0->tensorflow) (2.13.0)\n",
      "Requirement already satisfied: tensorflow-estimator<2.14,>=2.13.0 in c:\\users\\vaish\\anaconda3\\lib\\site-packages (from tensorflow-intel==2.13.0->tensorflow) (2.13.0)\n",
      "Requirement already satisfied: keras<2.14,>=2.13.1 in c:\\users\\vaish\\anaconda3\\lib\\site-packages (from tensorflow-intel==2.13.0->tensorflow) (2.13.1)\n",
      "Requirement already satisfied: tensorflow-io-gcs-filesystem>=0.23.1 in c:\\users\\vaish\\anaconda3\\lib\\site-packages (from tensorflow-intel==2.13.0->tensorflow) (0.31.0)\n",
      "Requirement already satisfied: wheel<1.0,>=0.23.0 in c:\\users\\vaish\\anaconda3\\lib\\site-packages (from astunparse>=1.6.0->tensorflow-intel==2.13.0->tensorflow) (0.38.4)\n",
      "Requirement already satisfied: google-auth<3,>=1.6.3 in c:\\users\\vaish\\anaconda3\\lib\\site-packages (from tensorboard<2.14,>=2.13->tensorflow-intel==2.13.0->tensorflow) (2.23.0)\n",
      "Requirement already satisfied: google-auth-oauthlib<1.1,>=0.5 in c:\\users\\vaish\\anaconda3\\lib\\site-packages (from tensorboard<2.14,>=2.13->tensorflow-intel==2.13.0->tensorflow) (1.0.0)\n",
      "Requirement already satisfied: markdown>=2.6.8 in c:\\users\\vaish\\anaconda3\\lib\\site-packages (from tensorboard<2.14,>=2.13->tensorflow-intel==2.13.0->tensorflow) (3.4.1)\n",
      "Requirement already satisfied: requests<3,>=2.21.0 in c:\\users\\vaish\\anaconda3\\lib\\site-packages (from tensorboard<2.14,>=2.13->tensorflow-intel==2.13.0->tensorflow) (2.31.0)\n",
      "Requirement already satisfied: tensorboard-data-server<0.8.0,>=0.7.0 in c:\\users\\vaish\\anaconda3\\lib\\site-packages (from tensorboard<2.14,>=2.13->tensorflow-intel==2.13.0->tensorflow) (0.7.1)\n",
      "Requirement already satisfied: werkzeug>=1.0.1 in c:\\users\\vaish\\anaconda3\\lib\\site-packages (from tensorboard<2.14,>=2.13->tensorflow-intel==2.13.0->tensorflow) (2.2.3)\n",
      "Requirement already satisfied: cachetools<6.0,>=2.0.0 in c:\\users\\vaish\\anaconda3\\lib\\site-packages (from google-auth<3,>=1.6.3->tensorboard<2.14,>=2.13->tensorflow-intel==2.13.0->tensorflow) (5.3.1)\n",
      "Requirement already satisfied: pyasn1-modules>=0.2.1 in c:\\users\\vaish\\anaconda3\\lib\\site-packages (from google-auth<3,>=1.6.3->tensorboard<2.14,>=2.13->tensorflow-intel==2.13.0->tensorflow) (0.2.8)\n",
      "Requirement already satisfied: rsa<5,>=3.1.4 in c:\\users\\vaish\\anaconda3\\lib\\site-packages (from google-auth<3,>=1.6.3->tensorboard<2.14,>=2.13->tensorflow-intel==2.13.0->tensorflow) (4.9)\n",
      "Requirement already satisfied: urllib3<2.0 in c:\\users\\vaish\\anaconda3\\lib\\site-packages (from google-auth<3,>=1.6.3->tensorboard<2.14,>=2.13->tensorflow-intel==2.13.0->tensorflow) (1.26.16)\n",
      "Requirement already satisfied: requests-oauthlib>=0.7.0 in c:\\users\\vaish\\anaconda3\\lib\\site-packages (from google-auth-oauthlib<1.1,>=0.5->tensorboard<2.14,>=2.13->tensorflow-intel==2.13.0->tensorflow) (1.3.1)\n",
      "Requirement already satisfied: charset-normalizer<4,>=2 in c:\\users\\vaish\\anaconda3\\lib\\site-packages (from requests<3,>=2.21.0->tensorboard<2.14,>=2.13->tensorflow-intel==2.13.0->tensorflow) (2.0.4)\n",
      "Requirement already satisfied: idna<4,>=2.5 in c:\\users\\vaish\\anaconda3\\lib\\site-packages (from requests<3,>=2.21.0->tensorboard<2.14,>=2.13->tensorflow-intel==2.13.0->tensorflow) (3.4)\n",
      "Requirement already satisfied: certifi>=2017.4.17 in c:\\users\\vaish\\anaconda3\\lib\\site-packages (from requests<3,>=2.21.0->tensorboard<2.14,>=2.13->tensorflow-intel==2.13.0->tensorflow) (2023.7.22)\n",
      "Requirement already satisfied: MarkupSafe>=2.1.1 in c:\\users\\vaish\\anaconda3\\lib\\site-packages (from werkzeug>=1.0.1->tensorboard<2.14,>=2.13->tensorflow-intel==2.13.0->tensorflow) (2.1.1)\n",
      "Requirement already satisfied: pyasn1<0.5.0,>=0.4.6 in c:\\users\\vaish\\anaconda3\\lib\\site-packages (from pyasn1-modules>=0.2.1->google-auth<3,>=1.6.3->tensorboard<2.14,>=2.13->tensorflow-intel==2.13.0->tensorflow) (0.4.8)\n",
      "Requirement already satisfied: oauthlib>=3.0.0 in c:\\users\\vaish\\anaconda3\\lib\\site-packages (from requests-oauthlib>=0.7.0->google-auth-oauthlib<1.1,>=0.5->tensorboard<2.14,>=2.13->tensorflow-intel==2.13.0->tensorflow) (3.2.2)\n"
     ]
    },
    {
     "data": {
      "text/html": [
       "        <script type=\"text/javascript\">\n",
       "        window.PlotlyConfig = {MathJaxConfig: 'local'};\n",
       "        if (window.MathJax && window.MathJax.Hub && window.MathJax.Hub.Config) {window.MathJax.Hub.Config({SVG: {font: \"STIX-Web\"}});}\n",
       "        if (typeof require !== 'undefined') {\n",
       "        require.undef(\"plotly\");\n",
       "        requirejs.config({\n",
       "            paths: {\n",
       "                'plotly': ['https://cdn.plot.ly/plotly-2.12.1.min']\n",
       "            }\n",
       "        });\n",
       "        require(['plotly'], function(Plotly) {\n",
       "            window._Plotly = Plotly;\n",
       "        });\n",
       "        }\n",
       "        </script>\n",
       "        "
      ]
     },
     "metadata": {},
     "output_type": "display_data"
    }
   ],
   "source": [
    "!pip install spectral\n",
    "!pip install tensorflow\n",
    "import os\n",
    "import sys\n",
    "import torch\n",
    "import cv2\n",
    "import numpy as np\n",
    "import pandas as pd\n",
    "import matplotlib.pyplot as plt\n",
    "from scipy import io\n",
    "from scipy.io import loadmat\n",
    "from PIL import Image\n",
    "from sklearn.model_selection import train_test_split\n",
    "from tqdm import tqdm\n",
    "import keras\n",
    "import spectral\n",
    "import tensorflow as tf\n",
    "from tensorflow.keras.layers import Input\n",
    "from tensorflow.keras.layers import Conv2D\n",
    "from tensorflow.keras.layers import MaxPooling2D\n",
    "from tensorflow.keras.layers import Dropout\n",
    "from tensorflow.keras.layers import Conv2DTranspose\n",
    "from tensorflow.keras.layers import concatenate\n",
    "from tensorflow.keras.models import Model\n",
    "from keras.layers import Conv2D, Conv3D, Flatten, Dense, Reshape, BatchNormalization, GlobalAveragePooling2D\n",
    "from keras.layers import Dropout, Input\n",
    "from keras.models import Model\n",
    "from tensorflow.keras.optimizers import Adam\n",
    "from keras.callbacks import ModelCheckpoint\n",
    "from sklearn.decomposition import PCA\n",
    "from sklearn.model_selection import train_test_split\n",
    "from sklearn.metrics import confusion_matrix, accuracy_score, classification_report, cohen_kappa_score\n",
    "from operator import truediv\n",
    "from plotly.offline import init_notebook_mode\n",
    "import spectral\n",
    "from tensorflow.keras import utils\n",
    "init_notebook_mode(connected=True)\n",
    "%matplotlib inline\n",
    "#from test_utils import summary, comparator"
   ]
  },
  {
   "cell_type": "code",
   "execution_count": 2,
   "id": "d6d3b9ea",
   "metadata": {},
   "outputs": [
    {
     "name": "stdout",
     "output_type": "stream",
     "text": [
      "Keys in dataset_data: dict_keys(['__header__', '__version__', '__globals__', 'indian_pines_corrected'])\n",
      "Keys in ground_truth_data: dict_keys(['__header__', '__version__', '__globals__', 'indian_pines_gt'])\n",
      "Data shape: (145, 145, 200)\n",
      "Data content: [[2576 4388 4334 ... 1047 1030 1006]\n",
      " [2747 4264 4592 ... 1055 1039 1015]\n",
      " [2750 4268 4423 ... 1047 1026 1015]\n",
      " ...\n",
      " [3859 4512 4605 ... 1056 1035 1015]\n",
      " [3686 4264 4690 ... 1051 1012 1020]\n",
      " [2744 4268 4597 ... 1047 1019 1016]]\n",
      "Data shape: (145, 145)\n",
      "Data content: [[3 3 3 ... 0 0 0]\n",
      " [3 3 3 ... 0 0 0]\n",
      " [3 3 3 ... 0 0 0]\n",
      " ...\n",
      " [0 0 0 ... 0 0 0]\n",
      " [0 0 0 ... 0 0 0]\n",
      " [0 0 0 ... 0 0 0]]\n"
     ]
    }
   ],
   "source": [
    "dataset_folder = \"Indian_pines_corrected.mat\"\n",
    "ground_truth_folder = \"Indian_pines_gt.mat\"\n",
    "dataset_data = io.loadmat(dataset_folder)\n",
    "ground_truth_data = io.loadmat(ground_truth_folder)\n",
    "print(\"Keys in dataset_data:\", dataset_data.keys())\n",
    "print(\"Keys in ground_truth_data:\", ground_truth_data.keys())\n",
    "\n",
    "variable_name = 'indian_pines_corrected'\n",
    "if variable_name in dataset_data:\n",
    "    data = dataset_data[variable_name]\n",
    "    print(\"Data shape:\", data.shape)\n",
    "    print(\"Data content:\", data[1])\n",
    "else:\n",
    "    print(f\"Variable '{variable_name}' not found in the .mat file.\")\n",
    "    \n",
    "variable_name = 'indian_pines_gt'\n",
    "if variable_name in ground_truth_data:\n",
    "    data_gt = ground_truth_data[variable_name]\n",
    "    print(\"Data shape:\", data_gt.shape)\n",
    "    print(\"Data content:\", data_gt)\n",
    "else:\n",
    "    print(f\"Variable '{variable_name}' not found in the .mat file.\")"
   ]
  },
  {
   "cell_type": "code",
   "execution_count": 29,
   "id": "339336af",
   "metadata": {},
   "outputs": [],
   "source": [
    "target_names = ['Alfalfa', 'Corn-notill', 'Corn-mintill', 'Corn'\n",
    "                        ,'Grass-pasture', 'Grass-trees', 'Grass-pasture-mowed', \n",
    "                        'Hay-windrowed', 'Oats', 'Soybean-notill', 'Soybean-mintill',\n",
    "                        'Soybean-clean', 'Wheat', 'Woods', 'Buildings-Grass-Trees-Drives',\n",
    "                        'Stone-Steel-Towers']"
   ]
  },
  {
   "cell_type": "markdown",
   "id": "d26abb51",
   "metadata": {},
   "source": [
    "# Data Processing"
   ]
  },
  {
   "cell_type": "code",
   "execution_count": 3,
   "id": "7d786f19",
   "metadata": {},
   "outputs": [],
   "source": [
    "def splitTrainTestSet(X, y, testRatio, randomState=345):\n",
    "    X_train, X_test, y_train, y_test = train_test_split(X, y, test_size=testRatio, random_state=randomState,\n",
    "                                                        stratify=y)\n",
    "    return X_train, X_test, y_train, y_test"
   ]
  },
  {
   "cell_type": "code",
   "execution_count": 4,
   "id": "77264bfb",
   "metadata": {},
   "outputs": [],
   "source": [
    "def applyPCA(X, numComponents=75):\n",
    "    newX = np.reshape(X, (-1, X.shape[2]))\n",
    "    pca = PCA(n_components=numComponents, whiten=True)\n",
    "    newX = pca.fit_transform(newX)\n",
    "    newX = np.reshape(newX, (X.shape[0],X.shape[1], numComponents))\n",
    "    return newX, pca"
   ]
  },
  {
   "cell_type": "code",
   "execution_count": 5,
   "id": "5a7e8136",
   "metadata": {},
   "outputs": [],
   "source": [
    "def padWithZeros(X, margin=2):\n",
    "    newX = np.zeros((X.shape[0] + 2 * margin, X.shape[1] + 2* margin, X.shape[2]))\n",
    "    x_offset = margin\n",
    "    y_offset = margin\n",
    "    newX[x_offset:X.shape[0] + x_offset, y_offset:X.shape[1] + y_offset, :] = X\n",
    "    return newX"
   ]
  },
  {
   "cell_type": "code",
   "execution_count": 6,
   "id": "9a64c734",
   "metadata": {},
   "outputs": [],
   "source": [
    "def createImageCubes(X, y, windowSize=5, removeZeroLabels = True):\n",
    "    margin = int((windowSize - 1) / 2)\n",
    "    zeroPaddedX = padWithZeros(X, margin=margin)\n",
    "    # split patches\n",
    "    patchesData = np.zeros((X.shape[0] * X.shape[1], windowSize, windowSize, X.shape[2]))\n",
    "    patchesLabels = np.zeros((X.shape[0] * X.shape[1]))\n",
    "    patchIndex = 0\n",
    "    for r in range(margin, zeroPaddedX.shape[0] - margin):\n",
    "        for c in range(margin, zeroPaddedX.shape[1] - margin):\n",
    "            patch = zeroPaddedX[r - margin:r + margin + 1, c - margin:c + margin + 1]\n",
    "            patchesData[patchIndex, :, :, :] = patch\n",
    "            patchesLabels[patchIndex] = y[r-margin, c-margin]\n",
    "            patchIndex = patchIndex + 1\n",
    "    if removeZeroLabels:\n",
    "        patchesData = patchesData[patchesLabels>0,:,:,:]\n",
    "        patchesLabels = patchesLabels[patchesLabels>0]\n",
    "        patchesLabels -= 1\n",
    "    return patchesData, patchesLabels"
   ]
  },
  {
   "cell_type": "code",
   "execution_count": 7,
   "id": "f05b6418",
   "metadata": {},
   "outputs": [],
   "source": [
    "def Patch(data,height_index,width_index):\n",
    "    height_slice = slice(height_index, height_index+PATCH_SIZE)\n",
    "    width_slice = slice(width_index, width_index+PATCH_SIZE)\n",
    "    patch = data[height_slice, width_slice, :]\n",
    "    return patch"
   ]
  },
  {
   "cell_type": "code",
   "execution_count": 8,
   "id": "6f425eb3",
   "metadata": {},
   "outputs": [
    {
     "data": {
      "text/plain": [
       "((145, 145, 200), (145, 145))"
      ]
     },
     "execution_count": 8,
     "metadata": {},
     "output_type": "execute_result"
    }
   ],
   "source": [
    "test_ratio = 0.3\n",
    "windowSize = 25\n",
    "X, y = data, data_gt\n",
    "X.shape, y.shape"
   ]
  },
  {
   "cell_type": "code",
   "execution_count": 9,
   "id": "9b4071dd",
   "metadata": {},
   "outputs": [
    {
     "data": {
      "text/plain": [
       "(145, 145, 30)"
      ]
     },
     "execution_count": 9,
     "metadata": {},
     "output_type": "execute_result"
    }
   ],
   "source": [
    "K = X.shape[2]\n",
    "K = 30\n",
    "batch_size=32\n",
    "X,pca = applyPCA(X,numComponents=K)\n",
    "X.shape"
   ]
  },
  {
   "cell_type": "code",
   "execution_count": 10,
   "id": "d40444e0",
   "metadata": {},
   "outputs": [
    {
     "data": {
      "text/plain": [
       "((10249, 25, 25, 30), (10249,))"
      ]
     },
     "execution_count": 10,
     "metadata": {},
     "output_type": "execute_result"
    }
   ],
   "source": [
    "X, y = createImageCubes(X, y, windowSize=windowSize)\n",
    "X.shape, y.shape"
   ]
  },
  {
   "cell_type": "code",
   "execution_count": 11,
   "id": "6957eef0",
   "metadata": {},
   "outputs": [
    {
     "data": {
      "text/plain": [
       "((7174, 25, 25, 30), (3075, 25, 25, 30), (7174,), (3075,))"
      ]
     },
     "execution_count": 11,
     "metadata": {},
     "output_type": "execute_result"
    }
   ],
   "source": [
    "Xtrain, Xtest, ytrain, ytest = splitTrainTestSet(X, y, test_ratio)\n",
    "Xtrain.shape, Xtest.shape, ytrain.shape, ytest.shape"
   ]
  },
  {
   "cell_type": "markdown",
   "id": "f4365279",
   "metadata": {},
   "source": [
    "# Model"
   ]
  },
  {
   "cell_type": "code",
   "execution_count": 12,
   "id": "02d802e0",
   "metadata": {},
   "outputs": [
    {
     "name": "stdout",
     "output_type": "stream",
     "text": [
      "(50000, 32, 32, 3) (50000, 10)\n"
     ]
    }
   ],
   "source": [
    "# Load CIFAR10 Data\n",
    "(X_train, y_train), (X_test, y_test) = tf.keras.datasets.cifar10.load_data()\n",
    "image_height, image_width, channel_size = X_train.shape[1],X_train.shape[2],X_train.shape[3]\n",
    "# convert to one hot encoing\n",
    "y_train = tf.keras.utils.to_categorical(y_train, 10)\n",
    "y_test = tf.keras.utils.to_categorical(y_test, num_classes=10)\n",
    "\n",
    "X_train = X_train / 255.0\n",
    "X_test = X_test / 255.0\n",
    "print(X_train.shape, y_train.shape)"
   ]
  },
  {
   "cell_type": "code",
   "execution_count": 13,
   "id": "6e10735b",
   "metadata": {},
   "outputs": [],
   "source": [
    "def denseblock(input, num_filter = 12, dropout_rate = 0.2):\n",
    "    global compression\n",
    "    temp = input\n",
    "    for _ in range(l): \n",
    "        BatchNorm = tf.keras.layers.BatchNormalization()(temp)\n",
    "        relu = tf.keras.layers.Activation('relu')(BatchNorm)\n",
    "        Conv2D_3_3 = tf.keras.layers.Conv2D(int(num_filter*compression), (3,3), use_bias=False ,padding='same')(relu)\n",
    "        if dropout_rate>0:\n",
    "            Conv2D_3_3 = tf.keras.layers.Dropout(dropout_rate)(Conv2D_3_3)\n",
    "        concat = tf.keras.layers.Concatenate(axis=-1)([temp,Conv2D_3_3])\n",
    "        temp = concat\n",
    "    return temp"
   ]
  },
  {
   "cell_type": "code",
   "execution_count": 14,
   "id": "c10e6bc6",
   "metadata": {},
   "outputs": [],
   "source": [
    "# transition Block\n",
    "def transition(input, num_filter = 12, dropout_rate = 0.2):\n",
    "    global compression\n",
    "    BatchNorm = tf.keras.layers.BatchNormalization()(input)\n",
    "    relu = tf.keras.layers.Activation('relu')(BatchNorm)\n",
    "    Conv2D_BottleNeck = tf.keras.layers.Conv2D(int(num_filter*compression), (1,1), use_bias=False ,padding='same')(relu)\n",
    "    if dropout_rate>0:\n",
    "         Conv2D_BottleNeck = tf.keras.layers.Dropout(dropout_rate)(Conv2D_BottleNeck)\n",
    "    avg = tf.keras.layers.AveragePooling2D(pool_size=(2,2))(Conv2D_BottleNeck)\n",
    "    return avg"
   ]
  },
  {
   "cell_type": "code",
   "execution_count": 15,
   "id": "e3daeac8",
   "metadata": {},
   "outputs": [],
   "source": [
    "def output_layer(input):\n",
    "    global compression\n",
    "    BatchNorm = tf.keras.layers.BatchNormalization()(input)\n",
    "    relu = tf.keras.layers.Activation('relu')(BatchNorm)\n",
    "    AvgPooling = tf.keras.layers.AveragePooling2D(pool_size=(2,2))(relu)\n",
    "    flat = tf.keras.layers.Flatten()(AvgPooling)\n",
    "    output = tf.keras.layers.Dense(16, activation='softmax')(flat)\n",
    "    return output"
   ]
  },
  {
   "cell_type": "markdown",
   "id": "8d3bd73e",
   "metadata": {},
   "source": [
    "# Training"
   ]
  },
  {
   "cell_type": "code",
   "execution_count": 16,
   "id": "35d7fc9e",
   "metadata": {},
   "outputs": [
    {
     "name": "stdout",
     "output_type": "stream",
     "text": [
      "Model: \"model\"\n",
      "__________________________________________________________________________________________________\n",
      " Layer (type)                Output Shape                 Param #   Connected to                  \n",
      "==================================================================================================\n",
      " input_1 (InputLayer)        [(None, 25, 25, 30)]         0         []                            \n",
      "                                                                                                  \n",
      " conv2d (Conv2D)             (None, 25, 25, 30)           8100      ['input_1[0][0]']             \n",
      "                                                                                                  \n",
      " batch_normalization (Batch  (None, 25, 25, 30)           120       ['conv2d[0][0]']              \n",
      " Normalization)                                                                                   \n",
      "                                                                                                  \n",
      " activation (Activation)     (None, 25, 25, 30)           0         ['batch_normalization[0][0]'] \n",
      "                                                                                                  \n",
      " conv2d_1 (Conv2D)           (None, 25, 25, 15)           4050      ['activation[0][0]']          \n",
      "                                                                                                  \n",
      " dropout (Dropout)           (None, 25, 25, 15)           0         ['conv2d_1[0][0]']            \n",
      "                                                                                                  \n",
      " concatenate (Concatenate)   (None, 25, 25, 45)           0         ['conv2d[0][0]',              \n",
      "                                                                     'dropout[0][0]']             \n",
      "                                                                                                  \n",
      " batch_normalization_1 (Bat  (None, 25, 25, 45)           180       ['concatenate[0][0]']         \n",
      " chNormalization)                                                                                 \n",
      "                                                                                                  \n",
      " activation_1 (Activation)   (None, 25, 25, 45)           0         ['batch_normalization_1[0][0]'\n",
      "                                                                    ]                             \n",
      "                                                                                                  \n",
      " conv2d_2 (Conv2D)           (None, 25, 25, 15)           6075      ['activation_1[0][0]']        \n",
      "                                                                                                  \n",
      " dropout_1 (Dropout)         (None, 25, 25, 15)           0         ['conv2d_2[0][0]']            \n",
      "                                                                                                  \n",
      " concatenate_1 (Concatenate  (None, 25, 25, 60)           0         ['concatenate[0][0]',         \n",
      " )                                                                   'dropout_1[0][0]']           \n",
      "                                                                                                  \n",
      " batch_normalization_2 (Bat  (None, 25, 25, 60)           240       ['concatenate_1[0][0]']       \n",
      " chNormalization)                                                                                 \n",
      "                                                                                                  \n",
      " activation_2 (Activation)   (None, 25, 25, 60)           0         ['batch_normalization_2[0][0]'\n",
      "                                                                    ]                             \n",
      "                                                                                                  \n",
      " conv2d_3 (Conv2D)           (None, 25, 25, 15)           8100      ['activation_2[0][0]']        \n",
      "                                                                                                  \n",
      " dropout_2 (Dropout)         (None, 25, 25, 15)           0         ['conv2d_3[0][0]']            \n",
      "                                                                                                  \n",
      " concatenate_2 (Concatenate  (None, 25, 25, 75)           0         ['concatenate_1[0][0]',       \n",
      " )                                                                   'dropout_2[0][0]']           \n",
      "                                                                                                  \n",
      " batch_normalization_3 (Bat  (None, 25, 25, 75)           300       ['concatenate_2[0][0]']       \n",
      " chNormalization)                                                                                 \n",
      "                                                                                                  \n",
      " activation_3 (Activation)   (None, 25, 25, 75)           0         ['batch_normalization_3[0][0]'\n",
      "                                                                    ]                             \n",
      "                                                                                                  \n",
      " conv2d_4 (Conv2D)           (None, 25, 25, 15)           10125     ['activation_3[0][0]']        \n",
      "                                                                                                  \n",
      " dropout_3 (Dropout)         (None, 25, 25, 15)           0         ['conv2d_4[0][0]']            \n",
      "                                                                                                  \n",
      " concatenate_3 (Concatenate  (None, 25, 25, 90)           0         ['concatenate_2[0][0]',       \n",
      " )                                                                   'dropout_3[0][0]']           \n",
      "                                                                                                  \n",
      " batch_normalization_4 (Bat  (None, 25, 25, 90)           360       ['concatenate_3[0][0]']       \n",
      " chNormalization)                                                                                 \n",
      "                                                                                                  \n",
      " activation_4 (Activation)   (None, 25, 25, 90)           0         ['batch_normalization_4[0][0]'\n",
      "                                                                    ]                             \n",
      "                                                                                                  \n",
      " conv2d_5 (Conv2D)           (None, 25, 25, 15)           12150     ['activation_4[0][0]']        \n",
      "                                                                                                  \n",
      " dropout_4 (Dropout)         (None, 25, 25, 15)           0         ['conv2d_5[0][0]']            \n",
      "                                                                                                  \n",
      " concatenate_4 (Concatenate  (None, 25, 25, 105)          0         ['concatenate_3[0][0]',       \n",
      " )                                                                   'dropout_4[0][0]']           \n",
      "                                                                                                  \n",
      " batch_normalization_5 (Bat  (None, 25, 25, 105)          420       ['concatenate_4[0][0]']       \n",
      " chNormalization)                                                                                 \n",
      "                                                                                                  \n",
      " activation_5 (Activation)   (None, 25, 25, 105)          0         ['batch_normalization_5[0][0]'\n",
      "                                                                    ]                             \n",
      "                                                                                                  \n",
      " conv2d_6 (Conv2D)           (None, 25, 25, 15)           14175     ['activation_5[0][0]']        \n",
      "                                                                                                  \n",
      " dropout_5 (Dropout)         (None, 25, 25, 15)           0         ['conv2d_6[0][0]']            \n",
      "                                                                                                  \n",
      " concatenate_5 (Concatenate  (None, 25, 25, 120)          0         ['concatenate_4[0][0]',       \n",
      " )                                                                   'dropout_5[0][0]']           \n"
     ]
    },
    {
     "name": "stdout",
     "output_type": "stream",
     "text": [
      "                                                                                                  \n",
      " batch_normalization_6 (Bat  (None, 25, 25, 120)          480       ['concatenate_5[0][0]']       \n",
      " chNormalization)                                                                                 \n",
      "                                                                                                  \n",
      " activation_6 (Activation)   (None, 25, 25, 120)          0         ['batch_normalization_6[0][0]'\n",
      "                                                                    ]                             \n",
      "                                                                                                  \n",
      " conv2d_7 (Conv2D)           (None, 25, 25, 15)           16200     ['activation_6[0][0]']        \n",
      "                                                                                                  \n",
      " dropout_6 (Dropout)         (None, 25, 25, 15)           0         ['conv2d_7[0][0]']            \n",
      "                                                                                                  \n",
      " concatenate_6 (Concatenate  (None, 25, 25, 135)          0         ['concatenate_5[0][0]',       \n",
      " )                                                                   'dropout_6[0][0]']           \n",
      "                                                                                                  \n",
      " batch_normalization_7 (Bat  (None, 25, 25, 135)          540       ['concatenate_6[0][0]']       \n",
      " chNormalization)                                                                                 \n",
      "                                                                                                  \n",
      " activation_7 (Activation)   (None, 25, 25, 135)          0         ['batch_normalization_7[0][0]'\n",
      "                                                                    ]                             \n",
      "                                                                                                  \n",
      " conv2d_8 (Conv2D)           (None, 25, 25, 15)           2025      ['activation_7[0][0]']        \n",
      "                                                                                                  \n",
      " dropout_7 (Dropout)         (None, 25, 25, 15)           0         ['conv2d_8[0][0]']            \n",
      "                                                                                                  \n",
      " average_pooling2d (Average  (None, 12, 12, 15)           0         ['dropout_7[0][0]']           \n",
      " Pooling2D)                                                                                       \n",
      "                                                                                                  \n",
      " batch_normalization_8 (Bat  (None, 12, 12, 15)           60        ['average_pooling2d[0][0]']   \n",
      " chNormalization)                                                                                 \n",
      "                                                                                                  \n",
      " activation_8 (Activation)   (None, 12, 12, 15)           0         ['batch_normalization_8[0][0]'\n",
      "                                                                    ]                             \n",
      "                                                                                                  \n",
      " conv2d_9 (Conv2D)           (None, 12, 12, 15)           2025      ['activation_8[0][0]']        \n",
      "                                                                                                  \n",
      " dropout_8 (Dropout)         (None, 12, 12, 15)           0         ['conv2d_9[0][0]']            \n",
      "                                                                                                  \n",
      " concatenate_7 (Concatenate  (None, 12, 12, 30)           0         ['average_pooling2d[0][0]',   \n",
      " )                                                                   'dropout_8[0][0]']           \n",
      "                                                                                                  \n",
      " batch_normalization_9 (Bat  (None, 12, 12, 30)           120       ['concatenate_7[0][0]']       \n",
      " chNormalization)                                                                                 \n",
      "                                                                                                  \n",
      " activation_9 (Activation)   (None, 12, 12, 30)           0         ['batch_normalization_9[0][0]'\n",
      "                                                                    ]                             \n",
      "                                                                                                  \n",
      " conv2d_10 (Conv2D)          (None, 12, 12, 15)           4050      ['activation_9[0][0]']        \n",
      "                                                                                                  \n",
      " dropout_9 (Dropout)         (None, 12, 12, 15)           0         ['conv2d_10[0][0]']           \n",
      "                                                                                                  \n",
      " concatenate_8 (Concatenate  (None, 12, 12, 45)           0         ['concatenate_7[0][0]',       \n",
      " )                                                                   'dropout_9[0][0]']           \n",
      "                                                                                                  \n",
      " batch_normalization_10 (Ba  (None, 12, 12, 45)           180       ['concatenate_8[0][0]']       \n",
      " tchNormalization)                                                                                \n",
      "                                                                                                  \n",
      " activation_10 (Activation)  (None, 12, 12, 45)           0         ['batch_normalization_10[0][0]\n",
      "                                                                    ']                            \n",
      "                                                                                                  \n",
      " conv2d_11 (Conv2D)          (None, 12, 12, 15)           6075      ['activation_10[0][0]']       \n",
      "                                                                                                  \n",
      " dropout_10 (Dropout)        (None, 12, 12, 15)           0         ['conv2d_11[0][0]']           \n",
      "                                                                                                  \n",
      " concatenate_9 (Concatenate  (None, 12, 12, 60)           0         ['concatenate_8[0][0]',       \n",
      " )                                                                   'dropout_10[0][0]']          \n",
      "                                                                                                  \n",
      " batch_normalization_11 (Ba  (None, 12, 12, 60)           240       ['concatenate_9[0][0]']       \n",
      " tchNormalization)                                                                                \n",
      "                                                                                                  \n",
      " activation_11 (Activation)  (None, 12, 12, 60)           0         ['batch_normalization_11[0][0]\n",
      "                                                                    ']                            \n",
      "                                                                                                  \n",
      " conv2d_12 (Conv2D)          (None, 12, 12, 15)           8100      ['activation_11[0][0]']       \n",
      "                                                                                                  \n",
      " dropout_11 (Dropout)        (None, 12, 12, 15)           0         ['conv2d_12[0][0]']           \n",
      "                                                                                                  \n",
      " concatenate_10 (Concatenat  (None, 12, 12, 75)           0         ['concatenate_9[0][0]',       \n",
      " e)                                                                  'dropout_11[0][0]']          \n",
      "                                                                                                  \n",
      " batch_normalization_12 (Ba  (None, 12, 12, 75)           300       ['concatenate_10[0][0]']      \n",
      " tchNormalization)                                                                                \n",
      "                                                                                                  \n",
      " activation_12 (Activation)  (None, 12, 12, 75)           0         ['batch_normalization_12[0][0]\n"
     ]
    },
    {
     "name": "stdout",
     "output_type": "stream",
     "text": [
      "                                                                    ']                            \n",
      "                                                                                                  \n",
      " conv2d_13 (Conv2D)          (None, 12, 12, 15)           10125     ['activation_12[0][0]']       \n",
      "                                                                                                  \n",
      " dropout_12 (Dropout)        (None, 12, 12, 15)           0         ['conv2d_13[0][0]']           \n",
      "                                                                                                  \n",
      " concatenate_11 (Concatenat  (None, 12, 12, 90)           0         ['concatenate_10[0][0]',      \n",
      " e)                                                                  'dropout_12[0][0]']          \n",
      "                                                                                                  \n",
      " batch_normalization_13 (Ba  (None, 12, 12, 90)           360       ['concatenate_11[0][0]']      \n",
      " tchNormalization)                                                                                \n",
      "                                                                                                  \n",
      " activation_13 (Activation)  (None, 12, 12, 90)           0         ['batch_normalization_13[0][0]\n",
      "                                                                    ']                            \n",
      "                                                                                                  \n",
      " conv2d_14 (Conv2D)          (None, 12, 12, 15)           12150     ['activation_13[0][0]']       \n",
      "                                                                                                  \n",
      " dropout_13 (Dropout)        (None, 12, 12, 15)           0         ['conv2d_14[0][0]']           \n",
      "                                                                                                  \n",
      " concatenate_12 (Concatenat  (None, 12, 12, 105)          0         ['concatenate_11[0][0]',      \n",
      " e)                                                                  'dropout_13[0][0]']          \n",
      "                                                                                                  \n",
      " batch_normalization_14 (Ba  (None, 12, 12, 105)          420       ['concatenate_12[0][0]']      \n",
      " tchNormalization)                                                                                \n",
      "                                                                                                  \n",
      " activation_14 (Activation)  (None, 12, 12, 105)          0         ['batch_normalization_14[0][0]\n",
      "                                                                    ']                            \n",
      "                                                                                                  \n",
      " conv2d_15 (Conv2D)          (None, 12, 12, 15)           14175     ['activation_14[0][0]']       \n",
      "                                                                                                  \n",
      " dropout_14 (Dropout)        (None, 12, 12, 15)           0         ['conv2d_15[0][0]']           \n",
      "                                                                                                  \n",
      " concatenate_13 (Concatenat  (None, 12, 12, 120)          0         ['concatenate_12[0][0]',      \n",
      " e)                                                                  'dropout_14[0][0]']          \n",
      "                                                                                                  \n",
      " batch_normalization_15 (Ba  (None, 12, 12, 120)          480       ['concatenate_13[0][0]']      \n",
      " tchNormalization)                                                                                \n",
      "                                                                                                  \n",
      " activation_15 (Activation)  (None, 12, 12, 120)          0         ['batch_normalization_15[0][0]\n",
      "                                                                    ']                            \n",
      "                                                                                                  \n",
      " average_pooling2d_1 (Avera  (None, 6, 6, 120)            0         ['activation_15[0][0]']       \n",
      " gePooling2D)                                                                                     \n",
      "                                                                                                  \n",
      " flatten (Flatten)           (None, 4320)                 0         ['average_pooling2d_1[0][0]'] \n",
      "                                                                                                  \n",
      " dense (Dense)               (None, 16)                   69136     ['flatten[0][0]']             \n",
      "                                                                                                  \n",
      "==================================================================================================\n",
      "Total params: 211636 (826.70 KB)\n",
      "Trainable params: 209236 (817.33 KB)\n",
      "Non-trainable params: 2400 (9.38 KB)\n",
      "__________________________________________________________________________________________________\n"
     ]
    }
   ],
   "source": [
    "l = 7\n",
    "compression = 0.5\n",
    "input = tf.keras.layers.Input(shape=(25,25,30,))\n",
    "First_Conv2D = tf.keras.layers.Conv2D(30, (3,3), use_bias=False ,padding='same')(input)\n",
    "First_Block = denseblock(First_Conv2D, 30, 0.5)\n",
    "First_Transition = transition(First_Block, 30, 0.5)\n",
    "Last_Block = denseblock(First_Transition, 30, 0.5)\n",
    "output = output_layer(Last_Block)\n",
    "model = Model(inputs=[input], outputs=[output])\n",
    "model.summary()"
   ]
  },
  {
   "cell_type": "code",
   "execution_count": 17,
   "id": "64639e0c",
   "metadata": {},
   "outputs": [
    {
     "name": "stderr",
     "output_type": "stream",
     "text": [
      "C:\\Users\\vaish\\anaconda3\\Lib\\site-packages\\keras\\src\\preprocessing\\image.py:2092: UserWarning:\n",
      "\n",
      "Expected input to be images (as Numpy array) following the data format convention \"channels_last\" (channels on axis 3), i.e. expected either 1, 3 or 4 channels on axis 3. However, it was passed an array with shape (7174, 25, 25, 30) (30 channels).\n",
      "\n",
      "C:\\Users\\vaish\\anaconda3\\Lib\\site-packages\\keras\\src\\preprocessing\\image.py:766: UserWarning:\n",
      "\n",
      "NumpyArrayIterator is set to use the data format convention \"channels_last\" (channels on axis 3), i.e. expected either 1, 3, or 4 channels on axis 3. However, it was passed an array with shape (7174, 25, 25, 30) (30 channels).\n",
      "\n"
     ]
    }
   ],
   "source": [
    "from keras.preprocessing.image import ImageDataGenerator\n",
    "datagen = ImageDataGenerator(height_shift_range=0.1, width_shift_range= 0.1, shear_range=0.2, zoom_range=0.2, horizontal_flip=True)\n",
    "datagen.fit(Xtrain)\n",
    "data = datagen.flow(x=Xtrain, y=ytrain, batch_size=32)"
   ]
  },
  {
   "cell_type": "code",
   "execution_count": 19,
   "id": "a68fda2e",
   "metadata": {},
   "outputs": [
    {
     "name": "stdout",
     "output_type": "stream",
     "text": [
      "Epoch 1/100\n",
      "225/225 [==============================] - 88s 377ms/step - loss: 0.6321 - accuracy: 0.8046\n",
      "Epoch 2/100\n",
      "225/225 [==============================] - 87s 387ms/step - loss: 0.0852 - accuracy: 0.9764\n",
      "Epoch 3/100\n",
      "225/225 [==============================] - 88s 391ms/step - loss: 0.0518 - accuracy: 0.9841\n",
      "Epoch 4/100\n",
      "225/225 [==============================] - 89s 394ms/step - loss: 0.0439 - accuracy: 0.9873\n",
      "Epoch 5/100\n",
      "225/225 [==============================] - 87s 386ms/step - loss: 0.0250 - accuracy: 0.9926\n",
      "Epoch 6/100\n",
      "225/225 [==============================] - 89s 395ms/step - loss: 0.0200 - accuracy: 0.9946\n",
      "Epoch 7/100\n",
      "225/225 [==============================] - 89s 394ms/step - loss: 0.0185 - accuracy: 0.9934\n",
      "Epoch 8/100\n",
      "225/225 [==============================] - 88s 393ms/step - loss: 0.0120 - accuracy: 0.9961\n",
      "Epoch 9/100\n",
      "225/225 [==============================] - 89s 396ms/step - loss: 0.0160 - accuracy: 0.9939\n",
      "Epoch 10/100\n",
      "225/225 [==============================] - 89s 396ms/step - loss: 0.0157 - accuracy: 0.9950\n",
      "Epoch 11/100\n",
      "225/225 [==============================] - 89s 395ms/step - loss: 0.0323 - accuracy: 0.9890\n",
      "Epoch 12/100\n",
      "225/225 [==============================] - 89s 397ms/step - loss: 0.0133 - accuracy: 0.9958\n",
      "Epoch 13/100\n",
      "225/225 [==============================] - 89s 394ms/step - loss: 0.0134 - accuracy: 0.9962\n",
      "Epoch 14/100\n",
      "225/225 [==============================] - 88s 392ms/step - loss: 0.0131 - accuracy: 0.9965\n",
      "Epoch 15/100\n",
      "225/225 [==============================] - 89s 394ms/step - loss: 0.0028 - accuracy: 0.9993\n",
      "Epoch 16/100\n",
      "225/225 [==============================] - 92s 410ms/step - loss: 0.0205 - accuracy: 0.9944\n",
      "Epoch 17/100\n",
      "225/225 [==============================] - 86s 381ms/step - loss: 0.0134 - accuracy: 0.9958\n",
      "Epoch 18/100\n",
      "225/225 [==============================] - 87s 389ms/step - loss: 0.0205 - accuracy: 0.9939\n",
      "Epoch 19/100\n",
      "225/225 [==============================] - 89s 394ms/step - loss: 0.0182 - accuracy: 0.9954\n",
      "Epoch 20/100\n",
      "225/225 [==============================] - 88s 392ms/step - loss: 0.0054 - accuracy: 0.9980\n",
      "Epoch 21/100\n",
      "225/225 [==============================] - 87s 387ms/step - loss: 0.0059 - accuracy: 0.9980\n",
      "Epoch 22/100\n",
      "225/225 [==============================] - 87s 387ms/step - loss: 0.0039 - accuracy: 0.9990\n",
      "Epoch 23/100\n",
      "225/225 [==============================] - 88s 391ms/step - loss: 0.0246 - accuracy: 0.9930\n",
      "Epoch 24/100\n",
      "225/225 [==============================] - 88s 390ms/step - loss: 0.0094 - accuracy: 0.9971\n",
      "Epoch 25/100\n",
      "225/225 [==============================] - 88s 391ms/step - loss: 0.0034 - accuracy: 0.9986\n",
      "Epoch 26/100\n",
      "225/225 [==============================] - 88s 391ms/step - loss: 0.0043 - accuracy: 0.9987\n",
      "Epoch 27/100\n",
      "225/225 [==============================] - 90s 401ms/step - loss: 0.0140 - accuracy: 0.9957\n",
      "Epoch 28/100\n",
      "225/225 [==============================] - 90s 400ms/step - loss: 0.0053 - accuracy: 0.9979\n",
      "Epoch 29/100\n",
      "225/225 [==============================] - 88s 392ms/step - loss: 0.0088 - accuracy: 0.9980\n",
      "Epoch 30/100\n",
      "225/225 [==============================] - 88s 389ms/step - loss: 0.0039 - accuracy: 0.9992\n",
      "Epoch 31/100\n",
      "225/225 [==============================] - 88s 391ms/step - loss: 0.0061 - accuracy: 0.9983\n",
      "Epoch 32/100\n",
      "225/225 [==============================] - 90s 400ms/step - loss: 0.0088 - accuracy: 0.9982\n",
      "Epoch 33/100\n",
      "225/225 [==============================] - 87s 388ms/step - loss: 0.0032 - accuracy: 0.9996\n",
      "Epoch 34/100\n",
      "225/225 [==============================] - 88s 389ms/step - loss: 0.0049 - accuracy: 0.9987\n",
      "Epoch 35/100\n",
      "225/225 [==============================] - 88s 390ms/step - loss: 0.0031 - accuracy: 0.9987\n",
      "Epoch 36/100\n",
      "225/225 [==============================] - 88s 390ms/step - loss: 0.0075 - accuracy: 0.9976\n",
      "Epoch 37/100\n",
      "225/225 [==============================] - 87s 388ms/step - loss: 0.0137 - accuracy: 0.9967\n",
      "Epoch 38/100\n",
      "225/225 [==============================] - 87s 386ms/step - loss: 0.0055 - accuracy: 0.9987\n",
      "Epoch 39/100\n",
      "225/225 [==============================] - 88s 390ms/step - loss: 0.0147 - accuracy: 0.9955\n",
      "Epoch 40/100\n",
      "225/225 [==============================] - 92s 407ms/step - loss: 0.0022 - accuracy: 0.9997\n",
      "Epoch 41/100\n",
      "225/225 [==============================] - 89s 394ms/step - loss: 9.5547e-04 - accuracy: 0.9994\n",
      "Epoch 42/100\n",
      "225/225 [==============================] - 91s 406ms/step - loss: 9.1513e-04 - accuracy: 0.9997\n",
      "Epoch 43/100\n",
      "225/225 [==============================] - 92s 408ms/step - loss: 0.0063 - accuracy: 0.9978\n",
      "Epoch 44/100\n",
      "225/225 [==============================] - 93s 413ms/step - loss: 4.3633e-04 - accuracy: 0.9999\n",
      "Epoch 45/100\n",
      "225/225 [==============================] - 92s 408ms/step - loss: 0.0098 - accuracy: 0.9972\n",
      "Epoch 46/100\n",
      "225/225 [==============================] - 94s 416ms/step - loss: 0.0060 - accuracy: 0.9985\n",
      "Epoch 47/100\n",
      "225/225 [==============================] - 87s 388ms/step - loss: 0.0026 - accuracy: 0.9992\n",
      "Epoch 48/100\n",
      "225/225 [==============================] - 87s 388ms/step - loss: 0.0039 - accuracy: 0.9985\n",
      "Epoch 49/100\n",
      "225/225 [==============================] - 89s 395ms/step - loss: 0.0010 - accuracy: 0.9994\n",
      "Epoch 50/100\n",
      "225/225 [==============================] - 90s 400ms/step - loss: 0.0011 - accuracy: 0.9997\n",
      "Epoch 51/100\n",
      "225/225 [==============================] - 88s 392ms/step - loss: 0.0013 - accuracy: 0.9997\n",
      "Epoch 52/100\n",
      "225/225 [==============================] - 88s 390ms/step - loss: 0.0040 - accuracy: 0.9990\n",
      "Epoch 53/100\n",
      "225/225 [==============================] - 90s 398ms/step - loss: 6.1276e-04 - accuracy: 0.9997\n",
      "Epoch 54/100\n",
      "225/225 [==============================] - 88s 391ms/step - loss: 0.0045 - accuracy: 0.9990\n",
      "Epoch 55/100\n",
      "225/225 [==============================] - 89s 395ms/step - loss: 4.9564e-04 - accuracy: 1.0000\n",
      "Epoch 56/100\n",
      "225/225 [==============================] - 88s 391ms/step - loss: 2.4973e-04 - accuracy: 1.0000\n",
      "Epoch 57/100\n",
      "225/225 [==============================] - 88s 390ms/step - loss: 0.0014 - accuracy: 0.9997\n",
      "Epoch 58/100\n",
      "225/225 [==============================] - 91s 403ms/step - loss: 2.2263e-04 - accuracy: 1.0000\n",
      "Epoch 59/100\n",
      "225/225 [==============================] - 91s 404ms/step - loss: 0.0096 - accuracy: 0.9980\n",
      "Epoch 60/100\n",
      "225/225 [==============================] - 89s 393ms/step - loss: 0.0091 - accuracy: 0.9972\n",
      "Epoch 61/100\n",
      "225/225 [==============================] - 90s 399ms/step - loss: 5.3295e-04 - accuracy: 0.9999\n",
      "Epoch 62/100\n",
      "225/225 [==============================] - 89s 396ms/step - loss: 0.0023 - accuracy: 0.9993\n",
      "Epoch 63/100\n",
      "225/225 [==============================] - 87s 388ms/step - loss: 0.0093 - accuracy: 0.9978\n",
      "Epoch 64/100\n",
      "225/225 [==============================] - 87s 386ms/step - loss: 0.0023 - accuracy: 0.9994\n",
      "Epoch 65/100\n",
      "225/225 [==============================] - 87s 388ms/step - loss: 0.0012 - accuracy: 0.9997\n",
      "Epoch 66/100\n",
      "225/225 [==============================] - 88s 390ms/step - loss: 0.0035 - accuracy: 0.9996\n",
      "Epoch 67/100\n",
      "225/225 [==============================] - 210s 935ms/step - loss: 0.0018 - accuracy: 0.9990\n",
      "Epoch 68/100\n",
      "225/225 [==============================] - 89s 396ms/step - loss: 0.0016 - accuracy: 0.9994\n",
      "Epoch 69/100\n",
      "225/225 [==============================] - 90s 398ms/step - loss: 0.0069 - accuracy: 0.9980\n",
      "Epoch 70/100\n",
      "225/225 [==============================] - 90s 399ms/step - loss: 7.4992e-04 - accuracy: 0.9999\n",
      "Epoch 71/100\n",
      "225/225 [==============================] - 89s 396ms/step - loss: 1.5120e-04 - accuracy: 1.0000\n",
      "Epoch 72/100\n",
      "225/225 [==============================] - 90s 398ms/step - loss: 6.3994e-05 - accuracy: 1.0000\n",
      "Epoch 73/100\n",
      "225/225 [==============================] - 91s 404ms/step - loss: 4.9502e-05 - accuracy: 1.0000\n",
      "Epoch 74/100\n",
      "225/225 [==============================] - 90s 399ms/step - loss: 7.8403e-05 - accuracy: 1.0000\n",
      "Epoch 75/100\n",
      "225/225 [==============================] - 89s 397ms/step - loss: 0.0089 - accuracy: 0.9983\n",
      "Epoch 76/100\n",
      "225/225 [==============================] - 89s 397ms/step - loss: 0.0011 - accuracy: 0.9999\n",
      "Epoch 77/100\n",
      "225/225 [==============================] - 89s 397ms/step - loss: 3.2042e-04 - accuracy: 1.0000\n",
      "Epoch 78/100\n"
     ]
    },
    {
     "name": "stdout",
     "output_type": "stream",
     "text": [
      "225/225 [==============================] - 89s 397ms/step - loss: 0.0046 - accuracy: 0.9986\n",
      "Epoch 79/100\n",
      "225/225 [==============================] - 89s 396ms/step - loss: 0.0039 - accuracy: 0.9993\n",
      "Epoch 80/100\n",
      "225/225 [==============================] - 89s 396ms/step - loss: 0.0014 - accuracy: 0.9994\n",
      "Epoch 81/100\n",
      "225/225 [==============================] - 89s 397ms/step - loss: 5.9468e-04 - accuracy: 0.9999\n",
      "Epoch 82/100\n",
      "225/225 [==============================] - 90s 399ms/step - loss: 8.4621e-05 - accuracy: 1.0000\n",
      "Epoch 83/100\n",
      "225/225 [==============================] - 90s 398ms/step - loss: 1.7957e-04 - accuracy: 1.0000\n",
      "Epoch 84/100\n",
      "225/225 [==============================] - 92s 407ms/step - loss: 0.0014 - accuracy: 0.9993\n",
      "Epoch 85/100\n",
      "225/225 [==============================] - 90s 402ms/step - loss: 0.0125 - accuracy: 0.9968\n",
      "Epoch 86/100\n",
      "225/225 [==============================] - 88s 393ms/step - loss: 0.0019 - accuracy: 0.9996\n",
      "Epoch 87/100\n",
      "225/225 [==============================] - 89s 397ms/step - loss: 0.0014 - accuracy: 0.9996\n",
      "Epoch 88/100\n",
      "225/225 [==============================] - 89s 397ms/step - loss: 4.8835e-04 - accuracy: 0.9999\n",
      "Epoch 89/100\n",
      "225/225 [==============================] - 89s 397ms/step - loss: 6.2365e-04 - accuracy: 0.9997\n",
      "Epoch 90/100\n",
      "225/225 [==============================] - 89s 397ms/step - loss: 1.4120e-04 - accuracy: 1.0000\n",
      "Epoch 91/100\n",
      "225/225 [==============================] - 89s 397ms/step - loss: 1.0965e-04 - accuracy: 1.0000\n",
      "Epoch 92/100\n",
      "225/225 [==============================] - 142s 632ms/step - loss: 0.0016 - accuracy: 0.9997\n",
      "Epoch 93/100\n",
      "225/225 [==============================] - 89s 396ms/step - loss: 0.0043 - accuracy: 0.9987\n",
      "Epoch 94/100\n",
      "225/225 [==============================] - 89s 395ms/step - loss: 0.0036 - accuracy: 0.9987\n",
      "Epoch 95/100\n",
      "225/225 [==============================] - 89s 396ms/step - loss: 0.0026 - accuracy: 0.9992\n",
      "Epoch 96/100\n",
      "225/225 [==============================] - 89s 395ms/step - loss: 1.0291e-04 - accuracy: 1.0000\n",
      "Epoch 97/100\n",
      "225/225 [==============================] - 89s 396ms/step - loss: 3.7144e-04 - accuracy: 0.9999\n",
      "Epoch 98/100\n",
      "225/225 [==============================] - 89s 396ms/step - loss: 0.0017 - accuracy: 0.9997\n",
      "Epoch 99/100\n",
      "225/225 [==============================] - 89s 396ms/step - loss: 0.0033 - accuracy: 0.9996\n",
      "Epoch 100/100\n",
      "225/225 [==============================] - 89s 395ms/step - loss: 0.0048 - accuracy: 0.9989\n"
     ]
    },
    {
     "data": {
      "text/plain": [
       "<keras.src.callbacks.History at 0x1e9b647c350>"
      ]
     },
     "execution_count": 19,
     "metadata": {},
     "output_type": "execute_result"
    }
   ],
   "source": [
    "from tensorflow.keras.utils import to_categorical\n",
    "lr_schedule = tf.keras.optimizers.schedules.ExponentialDecay(\n",
    "    initial_learning_rate=0.001,\n",
    "    decay_steps=10000,\n",
    "    decay_rate=0.9)\n",
    "adam = tf.keras.optimizers.Adam(learning_rate=lr_schedule)\n",
    "\n",
    "model.compile(optimizer='adam', loss='categorical_crossentropy', metrics=['accuracy'])\n",
    "\n",
    "filepath = \"best-model.hdf5\"\n",
    "checkpoint = ModelCheckpoint(filepath, monitor='acc', verbose=1, save_best_only=True, mode='max')\n",
    "callbacks_list = [checkpoint]\n",
    "\n",
    "Y_train_encoded = to_categorical(ytrain, num_classes=16)\n",
    "Y_test_encoded = to_categorical(ytest, num_classes=16)\n",
    "\n",
    "model.fit(Xtrain, Y_train_encoded, epochs = 100, batch_size = 32)"
   ]
  },
  {
   "cell_type": "code",
   "execution_count": 20,
   "id": "69e76135",
   "metadata": {},
   "outputs": [
    {
     "name": "stderr",
     "output_type": "stream",
     "text": [
      "C:\\Users\\vaish\\anaconda3\\Lib\\site-packages\\keras\\src\\engine\\training.py:3000: UserWarning:\n",
      "\n",
      "You are saving your model as an HDF5 file via `model.save()`. This file format is considered legacy. We recommend using instead the native Keras format, e.g. `model.save('my_model.keras')`.\n",
      "\n"
     ]
    }
   ],
   "source": [
    "model.save(\"best-model.hdf5\")"
   ]
  },
  {
   "cell_type": "markdown",
   "id": "bbc4f824",
   "metadata": {},
   "source": [
    "# Validation"
   ]
  },
  {
   "cell_type": "code",
   "execution_count": 21,
   "id": "8e35f80b",
   "metadata": {},
   "outputs": [
    {
     "name": "stdout",
     "output_type": "stream",
     "text": [
      "97/97 [==============================] - 6s 57ms/step - loss: 0.0264 - accuracy: 0.9909\n",
      "Test loss: 0.026417136192321777\n",
      "Test accuracy: 0.9908943176269531\n"
     ]
    }
   ],
   "source": [
    "results = model.evaluate(Xtest, Y_test_encoded, batch_size=32)\n",
    "print(\"Test loss:\", results[0])\n",
    "print(\"Test accuracy:\", results[1])"
   ]
  },
  {
   "cell_type": "code",
   "execution_count": 22,
   "id": "effd275c",
   "metadata": {},
   "outputs": [
    {
     "name": "stdout",
     "output_type": "stream",
     "text": [
      "(3075, 25, 25, 30)\n",
      "(3075, 16)\n"
     ]
    }
   ],
   "source": [
    "Xtest = Xtest.reshape(-1, windowSize, windowSize, K)\n",
    "print(Xtest.shape)\n",
    "ytest = utils.to_categorical(ytest)\n",
    "print(ytest.shape)"
   ]
  },
  {
   "cell_type": "code",
   "execution_count": 23,
   "id": "4b87b5bf",
   "metadata": {},
   "outputs": [
    {
     "name": "stdout",
     "output_type": "stream",
     "text": [
      "97/97 [==============================] - 6s 57ms/step\n",
      "              precision    recall  f1-score   support\n",
      "\n",
      "           0       1.00      1.00      1.00        14\n",
      "           1       0.94      1.00      0.97       428\n",
      "           2       1.00      1.00      1.00       249\n",
      "           3       1.00      1.00      1.00        71\n",
      "           4       0.99      1.00      1.00       145\n",
      "           5       1.00      1.00      1.00       219\n",
      "           6       1.00      1.00      1.00         8\n",
      "           7       1.00      1.00      1.00       143\n",
      "           8       1.00      1.00      1.00         6\n",
      "           9       1.00      1.00      1.00       292\n",
      "          10       1.00      0.96      0.98       737\n",
      "          11       0.99      1.00      1.00       178\n",
      "          12       1.00      1.00      1.00        61\n",
      "          13       1.00      1.00      1.00       380\n",
      "          14       1.00      0.99      1.00       116\n",
      "          15       1.00      1.00      1.00        28\n",
      "\n",
      "    accuracy                           0.99      3075\n",
      "   macro avg       1.00      1.00      1.00      3075\n",
      "weighted avg       0.99      0.99      0.99      3075\n",
      "\n"
     ]
    }
   ],
   "source": [
    "Y_pred_test = model.predict(Xtest)\n",
    "y_pred_test = np.argmax(Y_pred_test, axis=1)\n",
    "\n",
    "classification = classification_report(np.argmax(ytest, axis=1), y_pred_test)\n",
    "print(classification)"
   ]
  },
  {
   "cell_type": "code",
   "execution_count": 24,
   "id": "a85f8017",
   "metadata": {},
   "outputs": [],
   "source": [
    "def AA_andEachClassAccuracy(confusion_matrix):\n",
    "    counter = confusion_matrix.shape[0]\n",
    "    list_diag = np.diag(confusion_matrix)\n",
    "    list_raw_sum = np.sum(confusion_matrix, axis=1)\n",
    "    each_acc = np.nan_to_num(truediv(list_diag, list_raw_sum))\n",
    "    average_acc = np.mean(each_acc)\n",
    "    return each_acc, average_acc"
   ]
  },
  {
   "cell_type": "code",
   "execution_count": 25,
   "id": "3e579f39",
   "metadata": {},
   "outputs": [],
   "source": [
    "def reports (Xtest,ytest):\n",
    "    classification = classification_report(np.argmax(ytest, axis=1), y_pred_test, target_names=target_names)\n",
    "    oa = accuracy_score(np.argmax(ytest, axis=1), y_pred_test)\n",
    "    confusion = confusion_matrix(np.argmax(ytest, axis=1), y_pred_test)\n",
    "    each_acc, aa = AA_andEachClassAccuracy(confusion)\n",
    "    kappa = cohen_kappa_score(np.argmax(ytest, axis=1), y_pred_test)\n",
    "    score = model.evaluate(Xtest, ytest, batch_size=32)\n",
    "    Test_Loss =  score[0]*100\n",
    "    Test_accuracy = score[1]*100\n",
    "    return classification, confusion, Test_Loss, Test_accuracy, oa*100, each_acc*100, aa*100, kappa*100"
   ]
  },
  {
   "cell_type": "code",
   "execution_count": 26,
   "id": "e7daebb2",
   "metadata": {},
   "outputs": [
    {
     "name": "stdout",
     "output_type": "stream",
     "text": [
      "97/97 [==============================] - 6s 60ms/step - loss: 0.0264 - accuracy: 0.9909\n",
      "2.6417136192321777 99.08943176269531 99.08943089430893 [100.         100.          99.59839357 100.         100.\n",
      " 100.         100.         100.         100.         100.\n",
      "  96.47218453 100.         100.         100.          99.13793103\n",
      " 100.        ] 99.70053182129162 98.96280880530752\n"
     ]
    }
   ],
   "source": [
    "classification, confusion, Test_loss, Test_accuracy, oa, each_acc, aa, kappa = reports(Xtest,ytest)\n",
    "classification = str(classification)\n",
    "confusion = str(confusion)\n",
    "file_name = \"classification_report.txt\"\n",
    "\n",
    "print(Test_loss, Test_accuracy, oa, each_acc, aa, kappa)\n",
    "with open(file_name, 'w') as x_file:\n",
    "    x_file.write('{} Test loss (%)'.format(Test_loss))\n",
    "    x_file.write('\\n')\n",
    "    x_file.write('{} Test accuracy (%)'.format(Test_accuracy))\n",
    "    x_file.write('\\n')\n",
    "    x_file.write('\\n')\n",
    "    x_file.write('{} Kappa accuracy (%)'.format(kappa))\n",
    "    x_file.write('\\n')\n",
    "    x_file.write('{} Overall accuracy (%)'.format(oa))\n",
    "    x_file.write('\\n')\n",
    "    x_file.write('{} Average accuracy (%)'.format(aa))\n",
    "    x_file.write('\\n')\n",
    "    x_file.write('\\n')\n",
    "    x_file.write('{}'.format(classification))\n",
    "    x_file.write('\\n')\n",
    "    x_file.write('{}'.format(confusion))"
   ]
  },
  {
   "cell_type": "code",
   "execution_count": 30,
   "id": "eb572eb1",
   "metadata": {},
   "outputs": [
    {
     "name": "stdout",
     "output_type": "stream",
     "text": [
      "97/97 [==============================] - 7s 72ms/step\n"
     ]
    },
    {
     "data": {
      "image/png": "[encoded data removed]",
      "text/plain": [
       "<Figure size 1000x700 with 2 Axes>"
      ]
     },
     "metadata": {},
     "output_type": "display_data"
    }
   ],
   "source": [
    "import seaborn as sns\n",
    "plt.figure(figsize = (10,7))\n",
    "pred = np.argmax(model.predict(Xtest), axis=1)\n",
    "classes = target_names\n",
    "\n",
    "mat = confusion_matrix(np.add(pred, 1), np.add(np.argmax(ytest, 1), 1))\n",
    "df_cm = pd.DataFrame(mat, index = classes, columns = classes)\n",
    "sns.heatmap(df_cm, annot=True, fmt='d')\n",
    "plt.show()"
   ]
  }
 ],
 "metadata": {
  "kernelspec": {
   "display_name": "Python 3 (ipykernel)",
   "language": "python",
   "name": "python3"
  },
  "language_info": {
   "codemirror_mode": {
    "name": "ipython",
    "version": 3
   },
   "file_extension": ".py",
   "mimetype": "text/x-python",
   "name": "python",
   "nbconvert_exporter": "python",
   "pygments_lexer": "ipython3",
   "version": "3.11.4"
  }
 },
 "nbformat": 4,
 "nbformat_minor": 5
}
